{
  "nbformat": 4,
  "nbformat_minor": 0,
  "metadata": {
    "colab": {
      "name": "ABP4_Teledocencia.ipynb",
      "provenance": [],
      "collapsed_sections": [],
      "toc_visible": true
    },
    "kernelspec": {
      "name": "python3",
      "display_name": "Python 3"
    }
  },
  "cells": [
    {
      "cell_type": "markdown",
      "metadata": {
        "id": "L-brvMX3JnjU"
      },
      "source": [
        "#ABP4_Teledocencia\n",
        "\n"
      ]
    },
    {
      "cell_type": "markdown",
      "metadata": {
        "id": "dDRN_vD8JzIC"
      },
      "source": [
        "##Miembros"
      ]
    },
    {
      "cell_type": "markdown",
      "metadata": {
        "id": "QgrJ31ZgK0c9"
      },
      "source": [
        "Alejandro Gómez González"
      ]
    },
    {
      "cell_type": "markdown",
      "metadata": {
        "id": "MDRqDaw5KEH1"
      },
      "source": [
        "Miguel Arias Pérez"
      ]
    },
    {
      "cell_type": "markdown",
      "metadata": {
        "id": "QyHkz2MIKCrB"
      },
      "source": [
        "Juan Carlos Fernandes González "
      ]
    },
    {
      "cell_type": "markdown",
      "metadata": {
        "id": "fgL7xH-OJ1p4"
      },
      "source": [
        "Juan José Poza Mariño\n"
      ]
    },
    {
      "cell_type": "markdown",
      "metadata": {
        "id": "jDGYGyhXJKqo"
      },
      "source": [
        "#Preparación\n",
        "Aquí se muestran las ejecuciones necesarias para inicializar el entorno de trabajo\n",
        "\n",
        "\n",
        "---\n",
        "\n",
        "\n",
        "***Manual de uso***\n",
        "\n",
        "En esta sección se cargan y muestran los archivos de datos necesarios para la aplicación, los siguientes archivos CSV son leidos y almacenados en un DataFrame:\n",
        "\n",
        "\n",
        "-seriesData: Almacena toda la información de las series (descripción, año, titulo, etc...)\n",
        "\n",
        "-gustosData: Almacena la información de los gustos de cada usuario, indicando el id del usuario y los tipos de géneros que le gustan.\n",
        "\n",
        "-series_visData: Almacena la información de las series que ha visualizado cada usuario, indicando el id del usuario, el id de la serie y su grado de satisfación con esa serie, puede tomar tres valores:\n",
        "\n",
        "-1: No le ha gustado\n",
        "\n",
        "0: Indiferente\n",
        "\n",
        "1: Le ha gustado mucho\n",
        "\n",
        "-usuarioData: Almacena la información de cada usuario (DNI,login,password,etc...)."
      ]
    },
    {
      "cell_type": "code",
      "metadata": {
        "id": "WTQtR_Hx-h5d",
        "colab": {
          "base_uri": "https://localhost:8080/"
        },
        "outputId": "100299af-8344-4cba-bd1f-87d73cbdd303"
      },
      "source": [
        "from google.colab import drive\n",
        "drive.mount('/content/drive')"
      ],
      "execution_count": null,
      "outputs": [
        {
          "output_type": "stream",
          "text": [
            "Mounted at /content/drive\n"
          ],
          "name": "stdout"
        }
      ]
    },
    {
      "cell_type": "code",
      "metadata": {
        "id": "FcGM9aEegJ8b"
      },
      "source": [
        "import pandas as pd\n",
        "\n",
        "seriesData = pd.read_csv('/content/drive/My Drive/ABP_4_Teledocencia/SPRINT 2/CSV/series.csv')\n",
        "series_visData = pd.read_csv('/content/drive/My Drive/ABP_4_Teledocencia/SPRINT 2/CSV/Series_visualizadas.csv')\n",
        "gustosData = pd.read_csv('/content/drive/My Drive/ABP_4_Teledocencia/SPRINT 2/CSV/Gustos_genero.csv')\n",
        "usuarioData = pd.read_csv('/content/drive/My Drive/ABP_4_Teledocencia/SPRINT 2/CSV/usuario.csv')\n",
        "analisisData = pd.read_csv('/content/drive/My Drive/ABP_4_Teledocencia/SPRINT 2/CSV/Final.csv')\n",
        "series_comentariosData = pd.read_csv('/content/drive/My Drive/ABP_4_Teledocencia/SPRINT 2/CSV/Series_comentarios.csv')"
      ],
      "execution_count": null,
      "outputs": []
    },
    {
      "cell_type": "code",
      "metadata": {
        "id": "_UX5vo8RBTM8",
        "colab": {
          "base_uri": "https://localhost:8080/",
          "height": 793
        },
        "outputId": "d9c41823-bd01-43ef-a063-4a8687f78e0d"
      },
      "source": [
        "seriesData"
      ],
      "execution_count": null,
      "outputs": [
        {
          "output_type": "execute_result",
          "data": {
            "text/html": [
              "<div>\n",
              "<style scoped>\n",
              "    .dataframe tbody tr th:only-of-type {\n",
              "        vertical-align: middle;\n",
              "    }\n",
              "\n",
              "    .dataframe tbody tr th {\n",
              "        vertical-align: top;\n",
              "    }\n",
              "\n",
              "    .dataframe thead th {\n",
              "        text-align: right;\n",
              "    }\n",
              "</style>\n",
              "<table border=\"1\" class=\"dataframe\">\n",
              "  <thead>\n",
              "    <tr style=\"text-align: right;\">\n",
              "      <th></th>\n",
              "      <th>Actores</th>\n",
              "      <th>Director</th>\n",
              "      <th>Genero</th>\n",
              "      <th>Descripcion</th>\n",
              "      <th>Anho</th>\n",
              "      <th>Titulo</th>\n",
              "    </tr>\n",
              "  </thead>\n",
              "  <tbody>\n",
              "    <tr>\n",
              "      <th>0</th>\n",
              "      <td>Rami Malek, Christian Slater, Carly Chaikin, M...</td>\n",
              "      <td>Sam Esmail</td>\n",
              "      <td>Crime, Drama, Thriller</td>\n",
              "      <td>Elliot, a brilliant but highly unstable young ...</td>\n",
              "      <td>24 Jun 2015</td>\n",
              "      <td>Mr. Robot</td>\n",
              "    </tr>\n",
              "    <tr>\n",
              "      <th>1</th>\n",
              "      <td>Cillian Murphy, Paul Anderson, Helen McCrory, ...</td>\n",
              "      <td>NaN</td>\n",
              "      <td>Crime, Drama</td>\n",
              "      <td>A gangster family epic set in 1919 Birmingham,...</td>\n",
              "      <td>30 Sep 2014</td>\n",
              "      <td>Peaky Blinders</td>\n",
              "    </tr>\n",
              "    <tr>\n",
              "      <th>2</th>\n",
              "      <td>Karoline Eichhorn, Louis Hofmann, Jördis Trieb...</td>\n",
              "      <td>NaN</td>\n",
              "      <td>Crime, Drama, Mystery, Sci-Fi, Thriller</td>\n",
              "      <td>A family saga with a supernatural twist, set i...</td>\n",
              "      <td>01 Dec 2017</td>\n",
              "      <td>Dark</td>\n",
              "    </tr>\n",
              "    <tr>\n",
              "      <th>3</th>\n",
              "      <td>Bryan Cranston, Anna Gunn, Aaron Paul, Betsy B...</td>\n",
              "      <td>NaN</td>\n",
              "      <td>Crime, Drama, Thriller</td>\n",
              "      <td>A high school chemistry teacher diagnosed with...</td>\n",
              "      <td>20 Jan 2008</td>\n",
              "      <td>Breaking Bad</td>\n",
              "    </tr>\n",
              "    <tr>\n",
              "      <th>4</th>\n",
              "      <td>Peter Dinklage, Lena Headey, Emilia Clarke, Ki...</td>\n",
              "      <td>NaN</td>\n",
              "      <td>Action, Adventure, Drama, Fantasy, Romance</td>\n",
              "      <td>Nine noble families fight for control over the...</td>\n",
              "      <td>17 Apr 2011</td>\n",
              "      <td>Game of Thrones</td>\n",
              "    </tr>\n",
              "    <tr>\n",
              "      <th>...</th>\n",
              "      <td>...</td>\n",
              "      <td>...</td>\n",
              "      <td>...</td>\n",
              "      <td>...</td>\n",
              "      <td>...</td>\n",
              "      <td>...</td>\n",
              "    </tr>\n",
              "    <tr>\n",
              "      <th>123</th>\n",
              "      <td>Piper Perabo, Christopher Gorham, Kari Matchet...</td>\n",
              "      <td>NaN</td>\n",
              "      <td>Action, Crime, Drama, Mystery, Thriller</td>\n",
              "      <td>Fresh out of the farm, Annie Walker must adapt...</td>\n",
              "      <td>13 Jul 2010</td>\n",
              "      <td>Covert Affairs</td>\n",
              "    </tr>\n",
              "    <tr>\n",
              "      <th>124</th>\n",
              "      <td>Jeffrey Donovan, Gabrielle Anwar, Bruce Campbe...</td>\n",
              "      <td>NaN</td>\n",
              "      <td>Action, Crime, Drama, Mystery, Thriller</td>\n",
              "      <td>A spy recently disavowed by the U.S. governmen...</td>\n",
              "      <td>28 Jun 2007</td>\n",
              "      <td>Burn Notice</td>\n",
              "    </tr>\n",
              "    <tr>\n",
              "      <th>125</th>\n",
              "      <td>Matt Bomer, Tim DeKay, Willie Garson, Tiffani ...</td>\n",
              "      <td>NaN</td>\n",
              "      <td>Comedy, Crime, Drama, Mystery</td>\n",
              "      <td>A white collar criminal agrees to help the FBI...</td>\n",
              "      <td>23 Oct 2009</td>\n",
              "      <td>White Collar</td>\n",
              "    </tr>\n",
              "    <tr>\n",
              "      <th>126</th>\n",
              "      <td>James Roday, Dulé Hill, Timothy Omundson, Magg...</td>\n",
              "      <td>NaN</td>\n",
              "      <td>Comedy, Crime, Mystery</td>\n",
              "      <td>A novice sleuth is hired by the Police after h...</td>\n",
              "      <td>07 Jul 2006</td>\n",
              "      <td>Psych</td>\n",
              "    </tr>\n",
              "    <tr>\n",
              "      <th>127</th>\n",
              "      <td>Tony Shalhoub, Jason Gray-Stanford, Ted Levine...</td>\n",
              "      <td>NaN</td>\n",
              "      <td>Comedy, Crime, Drama, Mystery</td>\n",
              "      <td>Adrian Monk is a brilliant San Francisco detec...</td>\n",
              "      <td>12 Jul 2002</td>\n",
              "      <td>Monk</td>\n",
              "    </tr>\n",
              "  </tbody>\n",
              "</table>\n",
              "<p>128 rows × 6 columns</p>\n",
              "</div>"
            ],
            "text/plain": [
              "                                               Actores  ...           Titulo\n",
              "0    Rami Malek, Christian Slater, Carly Chaikin, M...  ...        Mr. Robot\n",
              "1    Cillian Murphy, Paul Anderson, Helen McCrory, ...  ...   Peaky Blinders\n",
              "2    Karoline Eichhorn, Louis Hofmann, Jördis Trieb...  ...             Dark\n",
              "3    Bryan Cranston, Anna Gunn, Aaron Paul, Betsy B...  ...     Breaking Bad\n",
              "4    Peter Dinklage, Lena Headey, Emilia Clarke, Ki...  ...  Game of Thrones\n",
              "..                                                 ...  ...              ...\n",
              "123  Piper Perabo, Christopher Gorham, Kari Matchet...  ...   Covert Affairs\n",
              "124  Jeffrey Donovan, Gabrielle Anwar, Bruce Campbe...  ...      Burn Notice\n",
              "125  Matt Bomer, Tim DeKay, Willie Garson, Tiffani ...  ...     White Collar\n",
              "126  James Roday, Dulé Hill, Timothy Omundson, Magg...  ...            Psych\n",
              "127  Tony Shalhoub, Jason Gray-Stanford, Ted Levine...  ...             Monk\n",
              "\n",
              "[128 rows x 6 columns]"
            ]
          },
          "metadata": {
            "tags": []
          },
          "execution_count": 3
        }
      ]
    },
    {
      "cell_type": "code",
      "metadata": {
        "id": "kXhGcVpHgksd",
        "colab": {
          "base_uri": "https://localhost:8080/",
          "height": 419
        },
        "outputId": "99d35526-f3b1-41d3-8a45-1d8a83930b91"
      },
      "source": [
        "usuarioData"
      ],
      "execution_count": null,
      "outputs": [
        {
          "output_type": "execute_result",
          "data": {
            "text/html": [
              "<div>\n",
              "<style scoped>\n",
              "    .dataframe tbody tr th:only-of-type {\n",
              "        vertical-align: middle;\n",
              "    }\n",
              "\n",
              "    .dataframe tbody tr th {\n",
              "        vertical-align: top;\n",
              "    }\n",
              "\n",
              "    .dataframe thead th {\n",
              "        text-align: right;\n",
              "    }\n",
              "</style>\n",
              "<table border=\"1\" class=\"dataframe\">\n",
              "  <thead>\n",
              "    <tr style=\"text-align: right;\">\n",
              "      <th></th>\n",
              "      <th>DNI</th>\n",
              "      <th>Login</th>\n",
              "      <th>Password</th>\n",
              "      <th>Email</th>\n",
              "      <th>Telefono</th>\n",
              "    </tr>\n",
              "  </thead>\n",
              "  <tbody>\n",
              "    <tr>\n",
              "      <th>0</th>\n",
              "      <td>72454396R</td>\n",
              "      <td>bschulken0</td>\n",
              "      <td>2bMIzAB32yp</td>\n",
              "      <td>lklimentyonok0@cdbaby.com</td>\n",
              "      <td>165707677</td>\n",
              "    </tr>\n",
              "    <tr>\n",
              "      <th>1</th>\n",
              "      <td>99029032W</td>\n",
              "      <td>mkyteley1</td>\n",
              "      <td>6baXWmYIGVg</td>\n",
              "      <td>fwreak1@instagram.com</td>\n",
              "      <td>453162970</td>\n",
              "    </tr>\n",
              "    <tr>\n",
              "      <th>2</th>\n",
              "      <td>66878252D</td>\n",
              "      <td>khaynesford2</td>\n",
              "      <td>fB4vUiHOOE</td>\n",
              "      <td>bstonall2@walmart.com</td>\n",
              "      <td>415965212</td>\n",
              "    </tr>\n",
              "    <tr>\n",
              "      <th>3</th>\n",
              "      <td>68378360B</td>\n",
              "      <td>tbarrand3</td>\n",
              "      <td>kuR6o4I</td>\n",
              "      <td>askett3@usnews.com</td>\n",
              "      <td>710920310</td>\n",
              "    </tr>\n",
              "    <tr>\n",
              "      <th>4</th>\n",
              "      <td>86351111L</td>\n",
              "      <td>ajiruca4</td>\n",
              "      <td>mwEDUTFJHR</td>\n",
              "      <td>djahnel4@microsoft.com</td>\n",
              "      <td>765272967</td>\n",
              "    </tr>\n",
              "    <tr>\n",
              "      <th>...</th>\n",
              "      <td>...</td>\n",
              "      <td>...</td>\n",
              "      <td>...</td>\n",
              "      <td>...</td>\n",
              "      <td>...</td>\n",
              "    </tr>\n",
              "    <tr>\n",
              "      <th>95</th>\n",
              "      <td>34536921D</td>\n",
              "      <td>cfitzgerald2n</td>\n",
              "      <td>7rJ5n37Xj</td>\n",
              "      <td>mavramov2n@prweb.com</td>\n",
              "      <td>843236117</td>\n",
              "    </tr>\n",
              "    <tr>\n",
              "      <th>96</th>\n",
              "      <td>03284481R</td>\n",
              "      <td>stregunna2o</td>\n",
              "      <td>v0gUWwLF8VM</td>\n",
              "      <td>ekivelle2o@moonfruit.com</td>\n",
              "      <td>262281420</td>\n",
              "    </tr>\n",
              "    <tr>\n",
              "      <th>97</th>\n",
              "      <td>87746132S</td>\n",
              "      <td>tnickoll2p</td>\n",
              "      <td>ppyA2TNl1</td>\n",
              "      <td>dpirdy2p@com.com</td>\n",
              "      <td>815085588</td>\n",
              "    </tr>\n",
              "    <tr>\n",
              "      <th>98</th>\n",
              "      <td>42597010B</td>\n",
              "      <td>dlukianov2q</td>\n",
              "      <td>YbXS6csIPd</td>\n",
              "      <td>afeather2q@illinois.edu</td>\n",
              "      <td>800356764</td>\n",
              "    </tr>\n",
              "    <tr>\n",
              "      <th>99</th>\n",
              "      <td>41282090S</td>\n",
              "      <td>apriscott2r</td>\n",
              "      <td>Dm6zay</td>\n",
              "      <td>abreazeall2r@amazon.de</td>\n",
              "      <td>29013525</td>\n",
              "    </tr>\n",
              "  </tbody>\n",
              "</table>\n",
              "<p>100 rows × 5 columns</p>\n",
              "</div>"
            ],
            "text/plain": [
              "          DNI          Login     Password                      Email   Telefono\n",
              "0   72454396R     bschulken0  2bMIzAB32yp  lklimentyonok0@cdbaby.com  165707677\n",
              "1   99029032W      mkyteley1  6baXWmYIGVg      fwreak1@instagram.com  453162970\n",
              "2   66878252D   khaynesford2   fB4vUiHOOE      bstonall2@walmart.com  415965212\n",
              "3   68378360B      tbarrand3      kuR6o4I         askett3@usnews.com  710920310\n",
              "4   86351111L       ajiruca4   mwEDUTFJHR     djahnel4@microsoft.com  765272967\n",
              "..        ...            ...          ...                        ...        ...\n",
              "95  34536921D  cfitzgerald2n    7rJ5n37Xj       mavramov2n@prweb.com  843236117\n",
              "96  03284481R    stregunna2o  v0gUWwLF8VM   ekivelle2o@moonfruit.com  262281420\n",
              "97  87746132S     tnickoll2p    ppyA2TNl1           dpirdy2p@com.com  815085588\n",
              "98  42597010B    dlukianov2q   YbXS6csIPd    afeather2q@illinois.edu  800356764\n",
              "99  41282090S    apriscott2r       Dm6zay     abreazeall2r@amazon.de   29013525\n",
              "\n",
              "[100 rows x 5 columns]"
            ]
          },
          "metadata": {
            "tags": []
          },
          "execution_count": 4
        }
      ]
    },
    {
      "cell_type": "code",
      "metadata": {
        "id": "ZEWWt9ndgmIZ",
        "colab": {
          "base_uri": "https://localhost:8080/",
          "height": 235
        },
        "outputId": "602e3ca3-69e2-4b3f-e7c3-cab3eb33816b"
      },
      "source": [
        "series_visData"
      ],
      "execution_count": null,
      "outputs": [
        {
          "output_type": "execute_result",
          "data": {
            "text/html": [
              "<div>\n",
              "<style scoped>\n",
              "    .dataframe tbody tr th:only-of-type {\n",
              "        vertical-align: middle;\n",
              "    }\n",
              "\n",
              "    .dataframe tbody tr th {\n",
              "        vertical-align: top;\n",
              "    }\n",
              "\n",
              "    .dataframe thead th {\n",
              "        text-align: right;\n",
              "    }\n",
              "</style>\n",
              "<table border=\"1\" class=\"dataframe\">\n",
              "  <thead>\n",
              "    <tr style=\"text-align: right;\">\n",
              "      <th></th>\n",
              "      <th>DNI</th>\n",
              "      <th>Titulo</th>\n",
              "      <th>Satisfaccion</th>\n",
              "    </tr>\n",
              "  </thead>\n",
              "  <tbody>\n",
              "    <tr>\n",
              "      <th>0</th>\n",
              "      <td>41282090S</td>\n",
              "      <td>Monk</td>\n",
              "      <td>negative</td>\n",
              "    </tr>\n",
              "    <tr>\n",
              "      <th>1</th>\n",
              "      <td>41282090S</td>\n",
              "      <td>Dark</td>\n",
              "      <td>positive</td>\n",
              "    </tr>\n",
              "    <tr>\n",
              "      <th>2</th>\n",
              "      <td>41282090S</td>\n",
              "      <td>Psych</td>\n",
              "      <td>positive</td>\n",
              "    </tr>\n",
              "    <tr>\n",
              "      <th>3</th>\n",
              "      <td>41282090S</td>\n",
              "      <td>Breaking Bad</td>\n",
              "      <td>negative</td>\n",
              "    </tr>\n",
              "    <tr>\n",
              "      <th>4</th>\n",
              "      <td>41282090S</td>\n",
              "      <td>White Collar</td>\n",
              "      <td>negative</td>\n",
              "    </tr>\n",
              "    <tr>\n",
              "      <th>5</th>\n",
              "      <td>68378360B</td>\n",
              "      <td>Dark</td>\n",
              "      <td>positive</td>\n",
              "    </tr>\n",
              "  </tbody>\n",
              "</table>\n",
              "</div>"
            ],
            "text/plain": [
              "         DNI        Titulo Satisfaccion\n",
              "0  41282090S          Monk     negative\n",
              "1  41282090S          Dark     positive\n",
              "2  41282090S         Psych     positive\n",
              "3  41282090S  Breaking Bad     negative\n",
              "4  41282090S  White Collar     negative\n",
              "5  68378360B          Dark     positive"
            ]
          },
          "metadata": {
            "tags": []
          },
          "execution_count": 9
        }
      ]
    },
    {
      "cell_type": "code",
      "metadata": {
        "id": "LJ6aS4B3gncO",
        "colab": {
          "base_uri": "https://localhost:8080/",
          "height": 235
        },
        "outputId": "08664b9b-e171-404a-9416-e660acd40971"
      },
      "source": [
        "gustosData"
      ],
      "execution_count": null,
      "outputs": [
        {
          "output_type": "execute_result",
          "data": {
            "text/html": [
              "<div>\n",
              "<style scoped>\n",
              "    .dataframe tbody tr th:only-of-type {\n",
              "        vertical-align: middle;\n",
              "    }\n",
              "\n",
              "    .dataframe tbody tr th {\n",
              "        vertical-align: top;\n",
              "    }\n",
              "\n",
              "    .dataframe thead th {\n",
              "        text-align: right;\n",
              "    }\n",
              "</style>\n",
              "<table border=\"1\" class=\"dataframe\">\n",
              "  <thead>\n",
              "    <tr style=\"text-align: right;\">\n",
              "      <th></th>\n",
              "      <th>DNI</th>\n",
              "      <th>Genero</th>\n",
              "    </tr>\n",
              "  </thead>\n",
              "  <tbody>\n",
              "    <tr>\n",
              "      <th>0</th>\n",
              "      <td>24578169L</td>\n",
              "      <td>Adventure</td>\n",
              "    </tr>\n",
              "    <tr>\n",
              "      <th>1</th>\n",
              "      <td>24578169L</td>\n",
              "      <td>Thriller</td>\n",
              "    </tr>\n",
              "    <tr>\n",
              "      <th>2</th>\n",
              "      <td>24578169L</td>\n",
              "      <td>Comedy</td>\n",
              "    </tr>\n",
              "    <tr>\n",
              "      <th>3</th>\n",
              "      <td>45144479X</td>\n",
              "      <td>Comedia</td>\n",
              "    </tr>\n",
              "    <tr>\n",
              "      <th>4</th>\n",
              "      <td>41282090S</td>\n",
              "      <td>Comedia</td>\n",
              "    </tr>\n",
              "    <tr>\n",
              "      <th>5</th>\n",
              "      <td>41282090S</td>\n",
              "      <td>fantasia</td>\n",
              "    </tr>\n",
              "  </tbody>\n",
              "</table>\n",
              "</div>"
            ],
            "text/plain": [
              "         DNI     Genero\n",
              "0  24578169L  Adventure\n",
              "1  24578169L   Thriller\n",
              "2  24578169L     Comedy\n",
              "3  45144479X    Comedia\n",
              "4  41282090S    Comedia\n",
              "5  41282090S   fantasia"
            ]
          },
          "metadata": {
            "tags": []
          },
          "execution_count": 6
        }
      ]
    },
    {
      "cell_type": "code",
      "metadata": {
        "colab": {
          "base_uri": "https://localhost:8080/",
          "height": 419
        },
        "id": "iXq5zoaVjIjy",
        "outputId": "83bc389d-51f5-4d78-f7b6-dbb360a0ccb7"
      },
      "source": [
        "analisisData #Aprendizaje"
      ],
      "execution_count": null,
      "outputs": [
        {
          "output_type": "execute_result",
          "data": {
            "text/html": [
              "<div>\n",
              "<style scoped>\n",
              "    .dataframe tbody tr th:only-of-type {\n",
              "        vertical-align: middle;\n",
              "    }\n",
              "\n",
              "    .dataframe tbody tr th {\n",
              "        vertical-align: top;\n",
              "    }\n",
              "\n",
              "    .dataframe thead th {\n",
              "        text-align: right;\n",
              "    }\n",
              "</style>\n",
              "<table border=\"1\" class=\"dataframe\">\n",
              "  <thead>\n",
              "    <tr style=\"text-align: right;\">\n",
              "      <th></th>\n",
              "      <th>review</th>\n",
              "      <th>sentiment</th>\n",
              "    </tr>\n",
              "  </thead>\n",
              "  <tbody>\n",
              "    <tr>\n",
              "      <th>0</th>\n",
              "      <td>One of the other reviewers has mentioned that ...</td>\n",
              "      <td>positive</td>\n",
              "    </tr>\n",
              "    <tr>\n",
              "      <th>1</th>\n",
              "      <td>A wonderful little production. The filming tec...</td>\n",
              "      <td>positive</td>\n",
              "    </tr>\n",
              "    <tr>\n",
              "      <th>2</th>\n",
              "      <td>I thought this was a wonderful way to spend ti...</td>\n",
              "      <td>positive</td>\n",
              "    </tr>\n",
              "    <tr>\n",
              "      <th>3</th>\n",
              "      <td>Basically there's a family where a little boy ...</td>\n",
              "      <td>negative</td>\n",
              "    </tr>\n",
              "    <tr>\n",
              "      <th>4</th>\n",
              "      <td>Petter Mattei's Love in the Time of Money is a...</td>\n",
              "      <td>positive</td>\n",
              "    </tr>\n",
              "    <tr>\n",
              "      <th>...</th>\n",
              "      <td>...</td>\n",
              "      <td>...</td>\n",
              "    </tr>\n",
              "    <tr>\n",
              "      <th>994</th>\n",
              "      <td>On watching this film, I was amazed at how med...</td>\n",
              "      <td>positive</td>\n",
              "    </tr>\n",
              "    <tr>\n",
              "      <th>995</th>\n",
              "      <td>Nothing is sacred. Just ask Ernie Fosselius. T...</td>\n",
              "      <td>positive</td>\n",
              "    </tr>\n",
              "    <tr>\n",
              "      <th>996</th>\n",
              "      <td>I hated it. I hate self-aware pretentious inan...</td>\n",
              "      <td>negative</td>\n",
              "    </tr>\n",
              "    <tr>\n",
              "      <th>997</th>\n",
              "      <td>I usually try to be professional and construct...</td>\n",
              "      <td>negative</td>\n",
              "    </tr>\n",
              "    <tr>\n",
              "      <th>998</th>\n",
              "      <td>If you like me is going to see this in a film ...</td>\n",
              "      <td>negative</td>\n",
              "    </tr>\n",
              "  </tbody>\n",
              "</table>\n",
              "<p>999 rows × 2 columns</p>\n",
              "</div>"
            ],
            "text/plain": [
              "                                                review sentiment\n",
              "0    One of the other reviewers has mentioned that ...  positive\n",
              "1    A wonderful little production. The filming tec...  positive\n",
              "2    I thought this was a wonderful way to spend ti...  positive\n",
              "3    Basically there's a family where a little boy ...  negative\n",
              "4    Petter Mattei's Love in the Time of Money is a...  positive\n",
              "..                                                 ...       ...\n",
              "994  On watching this film, I was amazed at how med...  positive\n",
              "995  Nothing is sacred. Just ask Ernie Fosselius. T...  positive\n",
              "996  I hated it. I hate self-aware pretentious inan...  negative\n",
              "997  I usually try to be professional and construct...  negative\n",
              "998  If you like me is going to see this in a film ...  negative\n",
              "\n",
              "[999 rows x 2 columns]"
            ]
          },
          "metadata": {
            "tags": []
          },
          "execution_count": 3
        }
      ]
    },
    {
      "cell_type": "code",
      "metadata": {
        "id": "YqR6o_JPDGh-",
        "colab": {
          "base_uri": "https://localhost:8080/",
          "height": 359
        },
        "outputId": "6ac6c995-7356-4e9f-ac9a-406aaf691ecb"
      },
      "source": [
        "series_comentariosData"
      ],
      "execution_count": null,
      "outputs": [
        {
          "output_type": "execute_result",
          "data": {
            "text/html": [
              "<div>\n",
              "<style scoped>\n",
              "    .dataframe tbody tr th:only-of-type {\n",
              "        vertical-align: middle;\n",
              "    }\n",
              "\n",
              "    .dataframe tbody tr th {\n",
              "        vertical-align: top;\n",
              "    }\n",
              "\n",
              "    .dataframe thead th {\n",
              "        text-align: right;\n",
              "    }\n",
              "</style>\n",
              "<table border=\"1\" class=\"dataframe\">\n",
              "  <thead>\n",
              "    <tr style=\"text-align: right;\">\n",
              "      <th></th>\n",
              "      <th>DNI</th>\n",
              "      <th>Titulo</th>\n",
              "      <th>Comentario</th>\n",
              "      <th>Valoracion</th>\n",
              "    </tr>\n",
              "  </thead>\n",
              "  <tbody>\n",
              "    <tr>\n",
              "      <th>0</th>\n",
              "      <td>72454396R</td>\n",
              "      <td>Dark</td>\n",
              "      <td>Really good serie</td>\n",
              "      <td>positive</td>\n",
              "    </tr>\n",
              "    <tr>\n",
              "      <th>1</th>\n",
              "      <td>68378360B</td>\n",
              "      <td>Monk</td>\n",
              "      <td>Quite enjoyable</td>\n",
              "      <td>positive</td>\n",
              "    </tr>\n",
              "    <tr>\n",
              "      <th>2</th>\n",
              "      <td>45144479X</td>\n",
              "      <td>Dark</td>\n",
              "      <td>I was amazed about the good plot and best acto...</td>\n",
              "      <td>['positive']</td>\n",
              "    </tr>\n",
              "    <tr>\n",
              "      <th>3</th>\n",
              "      <td>41282090S</td>\n",
              "      <td>Monk</td>\n",
              "      <td>not very pleasant to see</td>\n",
              "      <td>negative</td>\n",
              "    </tr>\n",
              "    <tr>\n",
              "      <th>4</th>\n",
              "      <td>41282090S</td>\n",
              "      <td>Dark</td>\n",
              "      <td>the film was a bit boring with no many action ...</td>\n",
              "      <td>['positive']</td>\n",
              "    </tr>\n",
              "    <tr>\n",
              "      <th>5</th>\n",
              "      <td>41282090S</td>\n",
              "      <td>The Walking Dead</td>\n",
              "      <td>The start was boring with no action, but in th...</td>\n",
              "      <td>['negative']</td>\n",
              "    </tr>\n",
              "    <tr>\n",
              "      <th>6</th>\n",
              "      <td>41282090S</td>\n",
              "      <td>The Simpsons</td>\n",
              "      <td>One of the most entertaining serie i have ever...</td>\n",
              "      <td>['positive']</td>\n",
              "    </tr>\n",
              "    <tr>\n",
              "      <th>7</th>\n",
              "      <td>41282090S</td>\n",
              "      <td>Dark</td>\n",
              "      <td>Good serie</td>\n",
              "      <td>[negative]</td>\n",
              "    </tr>\n",
              "    <tr>\n",
              "      <th>8</th>\n",
              "      <td>41282090S</td>\n",
              "      <td>The walking dead</td>\n",
              "      <td>good serie with great actors and nice music</td>\n",
              "      <td>[positive]</td>\n",
              "    </tr>\n",
              "    <tr>\n",
              "      <th>9</th>\n",
              "      <td>68378360B</td>\n",
              "      <td>Dark</td>\n",
              "      <td>good</td>\n",
              "      <td>positive</td>\n",
              "    </tr>\n",
              "  </tbody>\n",
              "</table>\n",
              "</div>"
            ],
            "text/plain": [
              "         DNI  ...    Valoracion\n",
              "0  72454396R  ...      positive\n",
              "1  68378360B  ...      positive\n",
              "2  45144479X  ...  ['positive']\n",
              "3  41282090S  ...      negative\n",
              "4  41282090S  ...  ['positive']\n",
              "5  41282090S  ...  ['negative']\n",
              "6  41282090S  ...  ['positive']\n",
              "7  41282090S  ...    [negative]\n",
              "8  41282090S  ...    [positive]\n",
              "9  68378360B  ...      positive\n",
              "\n",
              "[10 rows x 4 columns]"
            ]
          },
          "metadata": {
            "tags": []
          },
          "execution_count": 10
        }
      ]
    },
    {
      "cell_type": "markdown",
      "metadata": {
        "id": "8POCzUEG1b_u"
      },
      "source": [
        "#Gestionar Series\n",
        "A continuación se detallan los casos de uso de añadir, modificar, consultar y eliminar series.\n"
      ]
    },
    {
      "cell_type": "markdown",
      "metadata": {
        "id": "B98s25Uc1-5h"
      },
      "source": [
        "##Añadir Serie \n",
        "Para añadir una serie, se muestran los campos a rellenar para insertar una nueva serie, y se presiona el botón Añadir.\n",
        "\n",
        "---\n",
        "\n",
        "***Manual de uso: Añadir Serie***\n",
        "\n",
        "Para añadir una serie es necesario ejecutar la función añadirSerie(), esta función solicitará que se introduzcan los valores de una serie:\n",
        "\n",
        "\n",
        "\n",
        "1.   Se introduce el título de la serie\n",
        "2.   Se introduce la descripción de la serie\n",
        "3.   Se introduce el género de la serie\n",
        "4.   Se introduce el año de la serie\n",
        "5.   Se introducen los actores de la serie\n",
        "\n",
        "Una vez introducidos todos los parámetros, el sistema inserta la serie en el DataFrame seriesData, la ejecución de la función finaliza devolviendo los parámetros de la serie que se acaba de introducir."
      ]
    },
    {
      "cell_type": "code",
      "metadata": {
        "id": "v72ezy6x2yr8",
        "colab": {
          "base_uri": "https://localhost:8080/",
          "height": 228
        },
        "outputId": "bba17d43-a01f-454f-8275-502fabade5cc"
      },
      "source": [
        "def añadirSerie(): \n",
        "    Titulo = input (\"Por favor, introduce el título de la serie: \")\t\n",
        "    Descripcion\t= input (\"Por favor, introduce la descripción de la serie: \")\t\n",
        "    Genero\t= input (\"Por favor, introduce el género de la serie: \")\t\n",
        "    Anho = input (\"Por favor, introduce el año de la serie: \")\t\n",
        "    Actores\t= input (\"Por favor, introduce los actores de la serie: \")\n",
        "    Director = \tinput (\"Por favor, introduce el director de la serie: \")\n",
        "\n",
        "\n",
        "    seriesData.loc[seriesData.shape[0]] = [Actores,Director,Genero,Descripcion,Anho,Titulo]\n",
        "    seriesData.to_csv('/content/drive/My Drive/ABP_4_Teledocencia/SPRINT 2/CSV/series.csv',index = False)\n",
        "    print (\"----------------------------\")\n",
        "    print (\" ¡Serie añadida con éxito!\")\n",
        "    print (\"----------------------------\")\n",
        "    return seriesData.tail(1)\n",
        "añadirSerie()\n"
      ],
      "execution_count": null,
      "outputs": [
        {
          "output_type": "stream",
          "text": [
            "Por favor, introduce el título de la serie: Prueba\n",
            "Por favor, introduce la descripción de la serie: Probando\n",
            "Por favor, introduce el género de la serie: Comedia\n",
            "Por favor, introduce el año de la serie: 2020\n",
            "Por favor, introduce los actores de la serie: A\n",
            "Por favor, introduce el director de la serie: B\n",
            "----------------------------\n",
            " ¡Serie añadida con éxito!\n",
            "----------------------------\n"
          ],
          "name": "stdout"
        },
        {
          "output_type": "execute_result",
          "data": {
            "text/html": [
              "<div>\n",
              "<style scoped>\n",
              "    .dataframe tbody tr th:only-of-type {\n",
              "        vertical-align: middle;\n",
              "    }\n",
              "\n",
              "    .dataframe tbody tr th {\n",
              "        vertical-align: top;\n",
              "    }\n",
              "\n",
              "    .dataframe thead th {\n",
              "        text-align: right;\n",
              "    }\n",
              "</style>\n",
              "<table border=\"1\" class=\"dataframe\">\n",
              "  <thead>\n",
              "    <tr style=\"text-align: right;\">\n",
              "      <th></th>\n",
              "      <th>id_Series</th>\n",
              "      <th>Actores</th>\n",
              "      <th>Director</th>\n",
              "      <th>Genero</th>\n",
              "      <th>Descripcion</th>\n",
              "      <th>Anho</th>\n",
              "      <th>Titulo</th>\n",
              "    </tr>\n",
              "  </thead>\n",
              "  <tbody>\n",
              "    <tr>\n",
              "      <th>98</th>\n",
              "      <td>99</td>\n",
              "      <td>A</td>\n",
              "      <td>B</td>\n",
              "      <td>Comedia</td>\n",
              "      <td>Probando</td>\n",
              "      <td>2020</td>\n",
              "      <td>Prueba</td>\n",
              "    </tr>\n",
              "  </tbody>\n",
              "</table>\n",
              "</div>"
            ],
            "text/plain": [
              "    id_Series Actores Director   Genero Descripcion  Anho  Titulo\n",
              "98         99       A        B  Comedia    Probando  2020  Prueba"
            ]
          },
          "metadata": {
            "tags": []
          },
          "execution_count": 12
        }
      ]
    },
    {
      "cell_type": "markdown",
      "metadata": {
        "id": "8kaPqKjWx_wS"
      },
      "source": [
        "##Consultar Serie\n",
        "Para consultar una serie, se muestran las series, se escoge una y se presiona el botón Consultar.\n",
        "\n",
        "---\n",
        "\n",
        "***Manual de uso: Consultar Serie***\n",
        "\n",
        "Para consultar una serie es necesario ejecutar la función consultarSerie(), esta función solicitará el título de la serie que se quiere consultar.\n",
        "\n",
        "1.   Se introduce el título de la serie que se quiere consultar\n",
        "\n",
        "El sistema muestra la información de la serie que se ha seleccionado"
      ]
    },
    {
      "cell_type": "code",
      "metadata": {
        "id": "y7V2mkXHyDfd",
        "colab": {
          "base_uri": "https://localhost:8080/",
          "height": 94
        },
        "outputId": "2e09c926-a99b-4091-804c-eef3695989db"
      },
      "source": [
        "def consultarSerie(): \t\n",
        "    Titulo = input (\"Por favor, introduce el título de la serie que desea consultar: \")\t\n",
        "    Series = seriesData[seriesData[\"Titulo\"] == Titulo]\n",
        "\n",
        "    return Series\n",
        "consultarSerie()"
      ],
      "execution_count": null,
      "outputs": [
        {
          "output_type": "stream",
          "text": [
            "Por favor, introduce el título de la serie que desea consultar: Prueba\n"
          ],
          "name": "stdout"
        },
        {
          "output_type": "execute_result",
          "data": {
            "text/html": [
              "<div>\n",
              "<style scoped>\n",
              "    .dataframe tbody tr th:only-of-type {\n",
              "        vertical-align: middle;\n",
              "    }\n",
              "\n",
              "    .dataframe tbody tr th {\n",
              "        vertical-align: top;\n",
              "    }\n",
              "\n",
              "    .dataframe thead th {\n",
              "        text-align: right;\n",
              "    }\n",
              "</style>\n",
              "<table border=\"1\" class=\"dataframe\">\n",
              "  <thead>\n",
              "    <tr style=\"text-align: right;\">\n",
              "      <th></th>\n",
              "      <th>id_Series</th>\n",
              "      <th>Actores</th>\n",
              "      <th>Director</th>\n",
              "      <th>Genero</th>\n",
              "      <th>Descripcion</th>\n",
              "      <th>Anho</th>\n",
              "      <th>Titulo</th>\n",
              "    </tr>\n",
              "  </thead>\n",
              "  <tbody>\n",
              "    <tr>\n",
              "      <th>98</th>\n",
              "      <td>99</td>\n",
              "      <td>A</td>\n",
              "      <td>B</td>\n",
              "      <td>Comedia</td>\n",
              "      <td>Probando</td>\n",
              "      <td>2020</td>\n",
              "      <td>Prueba</td>\n",
              "    </tr>\n",
              "  </tbody>\n",
              "</table>\n",
              "</div>"
            ],
            "text/plain": [
              "    id_Series Actores Director   Genero Descripcion  Anho  Titulo\n",
              "98         99       A        B  Comedia    Probando  2020  Prueba"
            ]
          },
          "metadata": {
            "tags": []
          },
          "execution_count": 14
        }
      ]
    },
    {
      "cell_type": "markdown",
      "metadata": {
        "id": "IW3G9GcUuyBS"
      },
      "source": [
        "##Modificar Serie\n",
        "Para modifciar una serie, se muestran las series, se escoge una y se presiona el botón Modificar.\n",
        "\n",
        "En el caso de que no se escriba nada se dejará el texto que tenía antes.\n",
        "\n",
        "***Manual de uso: Modificar Serie***\n",
        "\n",
        "Para modificar una serie es necesario ejecutar la función modificarSerie(), esta función solicitará el título de la serie que se quiere modificar y los nuevos valores de una serie, si no se quiere modificar un determinado valor simplemente se deja en blanco ese campo:\n",
        "\n",
        "\n",
        "\n",
        "1.   Se introduce el título de la serie que se quiere modificar\n",
        "2.   Se introduce el nuevo título de la serie\n",
        "3.   Se introduce la nueva descripción de la serie\n",
        "4.   Se introduce el nuevo género de la serie\n",
        "5.   Se introduce el nuevo año de la serie\n",
        "6.   Se introducen los nuevos actores de la serie\n",
        "\n",
        "Una vez introducidos todos los parámetros, el sistema actualiza los datos de la serie en el DataFrame seriesData, la ejecución de la función finaliza devolviendo los parámetros de la serie que se acaba de actualizar."
      ]
    },
    {
      "cell_type": "code",
      "metadata": {
        "id": "_s0UcOwau7kP",
        "colab": {
          "base_uri": "https://localhost:8080/",
          "height": 245
        },
        "outputId": "6750f733-c795-491a-ae13-6e7cc9fc2542"
      },
      "source": [
        "def modificarSerie(): \t\n",
        "    Titulo = input (\"Por favor, introduce el titulo de la serie que desea modificar: \")\t\n",
        "    Series = seriesData[seriesData[\"Titulo\"] == Titulo]\n",
        "    valor = Series.index.values\n",
        "    \n",
        "    Titulo = input (\"Escriba algo si desea modificar el título de la serie: \")\t\n",
        "    if Titulo == \"\" :\n",
        "      Titulo = Series[\"Titulo\"].values[0]\n",
        "    \n",
        "    Descripcion\t= input (\"Escriba algo si desea modificar la descripción de la serie: \")\t\n",
        "    if Descripcion == \"\" :\n",
        "      Descripcion = Series[\"Descripcion\"].values[0]\n",
        "    \n",
        "    Genero\t= input (\"Escriba algo si desea modificar el género de la serie: \")\t\n",
        "    if Genero == \"\" :\n",
        "      Genero = Series[\"Genero\"].values[0]\n",
        "\n",
        "    Director = input (\"Escriba algo si desea modificar el director de la serie: \")\t\n",
        "    if Director == \"\" :\n",
        "      Director = Series[\"Director\"].values[0]\n",
        "    \n",
        "    Anho = input (\"Escriba algo si desea modificar el año de la serie: \")\t\n",
        "    if Anho == \"\" :\n",
        "      Anho = Series[\"Anho\"].values[0]\n",
        "    \n",
        "    Actores\t= input (\"Escriba algo si desea modificar los actores de la serie: \")\t\n",
        "    if Actores == \"\" :\n",
        "      Actores = Series[\"Actores\"].values[0]\n",
        "\n",
        "\n",
        "    seriesData.loc[valor[0]] = [Actores,Director,Genero,Descripcion,Anho,Titulo]\n",
        "\n",
        "    seriesData.to_csv('/content/drive/My Drive/ABP_4_Teledocencia/SPRINT 2/CSV/series.csv',index = False)\n",
        "    print (\"----------------------------\")\n",
        "    print (\" ¡Serie modificada con éxito!\")\n",
        "    print (\"----------------------------\")\n",
        "    return seriesData.loc[[valor[0]]]\n",
        "modificarSerie()"
      ],
      "execution_count": null,
      "outputs": [
        {
          "output_type": "stream",
          "text": [
            "Por favor, introduce el titulo de la serie que desea modificar: Prueba\n",
            "Escriba algo si desea modificar el título de la serie: \n",
            "Escriba algo si desea modificar la descripción de la serie: Probando modificacion\n",
            "Escriba algo si desea modificar el género de la serie: \n",
            "Escriba algo si desea modificar el director de la serie: \n",
            "Escriba algo si desea modificar el año de la serie: \n",
            "Escriba algo si desea modificar los actores de la serie: \n",
            "----------------------------\n",
            " ¡Serie modificada con éxito!\n",
            "----------------------------\n"
          ],
          "name": "stdout"
        },
        {
          "output_type": "execute_result",
          "data": {
            "text/html": [
              "<div>\n",
              "<style scoped>\n",
              "    .dataframe tbody tr th:only-of-type {\n",
              "        vertical-align: middle;\n",
              "    }\n",
              "\n",
              "    .dataframe tbody tr th {\n",
              "        vertical-align: top;\n",
              "    }\n",
              "\n",
              "    .dataframe thead th {\n",
              "        text-align: right;\n",
              "    }\n",
              "</style>\n",
              "<table border=\"1\" class=\"dataframe\">\n",
              "  <thead>\n",
              "    <tr style=\"text-align: right;\">\n",
              "      <th></th>\n",
              "      <th>id_Series</th>\n",
              "      <th>Actores</th>\n",
              "      <th>Director</th>\n",
              "      <th>Genero</th>\n",
              "      <th>Descripcion</th>\n",
              "      <th>Anho</th>\n",
              "      <th>Titulo</th>\n",
              "    </tr>\n",
              "  </thead>\n",
              "  <tbody>\n",
              "    <tr>\n",
              "      <th>98</th>\n",
              "      <td>99</td>\n",
              "      <td>A</td>\n",
              "      <td>B</td>\n",
              "      <td>Comedia</td>\n",
              "      <td>Probando modificacion</td>\n",
              "      <td>2020</td>\n",
              "      <td>Prueba</td>\n",
              "    </tr>\n",
              "  </tbody>\n",
              "</table>\n",
              "</div>"
            ],
            "text/plain": [
              "    id_Series Actores Director   Genero            Descripcion  Anho  Titulo\n",
              "98         99       A        B  Comedia  Probando modificacion  2020  Prueba"
            ]
          },
          "metadata": {
            "tags": []
          },
          "execution_count": 16
        }
      ]
    },
    {
      "cell_type": "markdown",
      "metadata": {
        "id": "jad8C9b82Y-Q"
      },
      "source": [
        "##Eliminar Serie\n",
        "Para eliminar una serie, se muestran las series, se escoge una y se presiona el botón Eliminar.\n",
        "\n",
        "\n",
        "---\n",
        "\n",
        "\n",
        "***Manual de uso: Eliminar Serie***\n",
        "\n",
        "Para eliminar una serie es necesario ejecutar la función eliminarSerie(), esta función solicitará el título de la serie que se quiere eliminar y la borra del DataFrame seriesData():\n",
        "\n",
        "1.   Se introduce el título de la serie que se quiere eliminar\n",
        "\n",
        "Una vez eliminada la serie el sistema devuelve la lista de las series almacenadas."
      ]
    },
    {
      "cell_type": "code",
      "metadata": {
        "id": "5j8lceEoAjiN",
        "colab": {
          "base_uri": "https://localhost:8080/",
          "height": 620
        },
        "outputId": "6ccd2da1-1cf9-45da-f259-ec6d0090e049"
      },
      "source": [
        "def eliminarSerie():\n",
        "    global seriesData\n",
        "\n",
        "    Titulo = input (\"Por favor, introduce el título de la serie que desea eliminar: \")\t\n",
        "    seriesData = seriesData.drop(seriesData[seriesData['Titulo']==Titulo].index)\n",
        "\n",
        "    seriesData.to_csv('/content/drive/My Drive/ABP_4_Teledocencia/SPRINT 2/CSV/series.csv',index = False)\n",
        "    print (\"----------------------------\")\n",
        "    print (\" ¡Serie eliminada con éxito!\")\n",
        "    print (\"----------------------------\")\n",
        "    return seriesData\n",
        "\n",
        "eliminarSerie()"
      ],
      "execution_count": null,
      "outputs": [
        {
          "output_type": "stream",
          "text": [
            "Por favor, introduce el título de la serie que desea eliminar: Pepito Grillo\n",
            "----------------------------\n",
            " ¡Serie eliminada con éxito!\n",
            "----------------------------\n"
          ],
          "name": "stdout"
        },
        {
          "output_type": "execute_result",
          "data": {
            "text/html": [
              "<div>\n",
              "<style scoped>\n",
              "    .dataframe tbody tr th:only-of-type {\n",
              "        vertical-align: middle;\n",
              "    }\n",
              "\n",
              "    .dataframe tbody tr th {\n",
              "        vertical-align: top;\n",
              "    }\n",
              "\n",
              "    .dataframe thead th {\n",
              "        text-align: right;\n",
              "    }\n",
              "</style>\n",
              "<table border=\"1\" class=\"dataframe\">\n",
              "  <thead>\n",
              "    <tr style=\"text-align: right;\">\n",
              "      <th></th>\n",
              "      <th>id_Series</th>\n",
              "      <th>Actores</th>\n",
              "      <th>Director</th>\n",
              "      <th>Genero</th>\n",
              "      <th>Descripcion</th>\n",
              "      <th>Anho</th>\n",
              "      <th>Titulo</th>\n",
              "    </tr>\n",
              "  </thead>\n",
              "  <tbody>\n",
              "    <tr>\n",
              "      <th>0</th>\n",
              "      <td>0</td>\n",
              "      <td>Rami Malek, Christian Slater, Carly Chaikin, M...</td>\n",
              "      <td>Sam Esmail</td>\n",
              "      <td>Crime, Drama, Thriller</td>\n",
              "      <td>Elliot, a brilliant but highly unstable young ...</td>\n",
              "      <td>24 Jun 2015</td>\n",
              "      <td>Mr. Robot</td>\n",
              "    </tr>\n",
              "    <tr>\n",
              "      <th>1</th>\n",
              "      <td>1</td>\n",
              "      <td>Cillian Murphy, Paul Anderson, Helen McCrory, ...</td>\n",
              "      <td>NaN</td>\n",
              "      <td>Crime, Drama</td>\n",
              "      <td>A gangster family epic set in 1919 Birmingham,...</td>\n",
              "      <td>30 Sep 2014</td>\n",
              "      <td>Peaky Blinders</td>\n",
              "    </tr>\n",
              "    <tr>\n",
              "      <th>2</th>\n",
              "      <td>2</td>\n",
              "      <td>Karoline Eichhorn, Louis Hofmann, Jördis Trieb...</td>\n",
              "      <td>NaN</td>\n",
              "      <td>Crime, Drama, Mystery, Sci-Fi, Thriller</td>\n",
              "      <td>A family saga with a supernatural twist, set i...</td>\n",
              "      <td>01 Dec 2017</td>\n",
              "      <td>Dark</td>\n",
              "    </tr>\n",
              "    <tr>\n",
              "      <th>3</th>\n",
              "      <td>3</td>\n",
              "      <td>Bryan Cranston, Anna Gunn, Aaron Paul, Betsy B...</td>\n",
              "      <td>NaN</td>\n",
              "      <td>Crime, Drama, Thriller</td>\n",
              "      <td>A high school chemistry teacher diagnosed with...</td>\n",
              "      <td>20 Jan 2008</td>\n",
              "      <td>Breaking Bad</td>\n",
              "    </tr>\n",
              "    <tr>\n",
              "      <th>4</th>\n",
              "      <td>4</td>\n",
              "      <td>Peter Dinklage, Lena Headey, Emilia Clarke, Ki...</td>\n",
              "      <td>NaN</td>\n",
              "      <td>Action, Adventure, Drama, Fantasy, Romance</td>\n",
              "      <td>Nine noble families fight for control over the...</td>\n",
              "      <td>17 Apr 2011</td>\n",
              "      <td>Game of Thrones</td>\n",
              "    </tr>\n",
              "    <tr>\n",
              "      <th>...</th>\n",
              "      <td>...</td>\n",
              "      <td>...</td>\n",
              "      <td>...</td>\n",
              "      <td>...</td>\n",
              "      <td>...</td>\n",
              "      <td>...</td>\n",
              "      <td>...</td>\n",
              "    </tr>\n",
              "    <tr>\n",
              "      <th>93</th>\n",
              "      <td>93</td>\n",
              "      <td>Brandon Scott, Marina Stephenson Kerr, Abigail...</td>\n",
              "      <td>NaN</td>\n",
              "      <td>Drama, Fantasy, Horror, Mystery, Thriller</td>\n",
              "      <td>An anthology series based on popular Internet ...</td>\n",
              "      <td>11 Oct 2016</td>\n",
              "      <td>Channel Zero</td>\n",
              "    </tr>\n",
              "    <tr>\n",
              "      <th>94</th>\n",
              "      <td>94</td>\n",
              "      <td>Alfonso Herrera, Ben Daniels, Kurt Egyiawan, H...</td>\n",
              "      <td>NaN</td>\n",
              "      <td>Drama, Horror, Mystery, Thriller</td>\n",
              "      <td>Follows three priests dealing with cases of a ...</td>\n",
              "      <td>23 Sep 2016</td>\n",
              "      <td>The Exorcist</td>\n",
              "    </tr>\n",
              "    <tr>\n",
              "      <th>95</th>\n",
              "      <td>95</td>\n",
              "      <td>Doona Bae, Jamie Clayton, Tina Desai, Tuppence...</td>\n",
              "      <td>NaN</td>\n",
              "      <td>Drama, Mystery, Sci-Fi, Thriller</td>\n",
              "      <td>A group of people around the world are suddenl...</td>\n",
              "      <td>05 Jun 2015</td>\n",
              "      <td>Sense8</td>\n",
              "    </tr>\n",
              "    <tr>\n",
              "      <th>96</th>\n",
              "      <td>96</td>\n",
              "      <td>Will Arnett, Amy Sedaris, Alison Brie, Aaron Paul</td>\n",
              "      <td>NaN</td>\n",
              "      <td>Animation, Comedy, Drama</td>\n",
              "      <td>BoJack Horseman was the star of the hit televi...</td>\n",
              "      <td>22 Aug 2014</td>\n",
              "      <td>BoJack Horseman</td>\n",
              "    </tr>\n",
              "    <tr>\n",
              "      <th>98</th>\n",
              "      <td>99</td>\n",
              "      <td>A</td>\n",
              "      <td>B</td>\n",
              "      <td>Comedia</td>\n",
              "      <td>Probando modificacion</td>\n",
              "      <td>2020</td>\n",
              "      <td>Prueba</td>\n",
              "    </tr>\n",
              "  </tbody>\n",
              "</table>\n",
              "<p>98 rows × 7 columns</p>\n",
              "</div>"
            ],
            "text/plain": [
              "    id_Series  ...           Titulo\n",
              "0           0  ...        Mr. Robot\n",
              "1           1  ...   Peaky Blinders\n",
              "2           2  ...             Dark\n",
              "3           3  ...     Breaking Bad\n",
              "4           4  ...  Game of Thrones\n",
              "..        ...  ...              ...\n",
              "93         93  ...     Channel Zero\n",
              "94         94  ...     The Exorcist\n",
              "95         95  ...           Sense8\n",
              "96         96  ...  BoJack Horseman\n",
              "98         99  ...           Prueba\n",
              "\n",
              "[98 rows x 7 columns]"
            ]
          },
          "metadata": {
            "tags": []
          },
          "execution_count": 18
        }
      ]
    },
    {
      "cell_type": "markdown",
      "metadata": {
        "id": "bN2m5PJQEBnz"
      },
      "source": [
        "#Gestionar Usuarios"
      ]
    },
    {
      "cell_type": "markdown",
      "metadata": {
        "id": "S0KiaWi_EFJo"
      },
      "source": [
        "##Añadir Usuario\n",
        "\n",
        "---\n",
        "\n",
        "***Manual de uso: Añadir Usuario***\n",
        "\n",
        "Para añadir un usuario es necesario ejecutar la función añadirUsuario(), esta función solicitará que se introduzcan los valores del usuario así como sus gustos y las series que ha visualizado:\n",
        "\n",
        "\n",
        "Se ejecuta la función **añadirUsuario**()\n",
        "1.   Se introduce el DNI del usuario\n",
        "2.   Se introduce el Login del usuario\n",
        "3.   Se introduce la contraseña del usuario\n",
        "4.   Se introduce el mail del usuario\n",
        "5.   Se introduce el teléfono del usuario\n",
        "\n",
        "Se inserta el usuario en el DataFrame usuarioData y muestra la información del usuario que se acaba de introducir.\n",
        "\n",
        "\n",
        "---\n",
        "\n",
        "\n",
        "Se ejecuta la función **añadirGusto**()\n",
        "1.   Se introduce el género que le gusta al usuario\n",
        "\n",
        "Se insertan los gustos del usuario en el DataFrame gustosData y se muestran los gustos del usuario que se acaba de introducir.\n",
        "\n",
        "\n",
        "---\n",
        "\n",
        "\n",
        "Se ejecuta la función **añadirSerieVis**()\n",
        "1.   Se introduce el id de la serie que ha visto el usuario\n",
        "2.   Se introduce el grado de satisfación con dicha serie\n",
        "\n",
        "Se insertan las series vistas por el usuario en el DataFrame series_visData y se muestran las series vistas por el usuario que se acaba de introducir."
      ]
    },
    {
      "cell_type": "code",
      "metadata": {
        "id": "TL-C5P_QEI8A",
        "colab": {
          "base_uri": "https://localhost:8080/",
          "height": 392
        },
        "outputId": "9dd32227-065b-4849-ef1f-e2ac5d52a6cb"
      },
      "source": [
        "def añadirUsuario(): \n",
        "    DNI = input (\"Por favor, introduce el DNI del usuario: \")\n",
        "    Login = input (\"Por favor, introduce el login del usuario: \")\t\n",
        "    Password\t= input (\"Por favor, introduce la password del usuario: \")\t\n",
        "    Email\t= input (\"Por favor, introduce el email del usuario: \")\t\n",
        "    Telefono = input (\"Por favor, introduce el teléfono del usuario: \")\n",
        "\n",
        "\n",
        "    usuarioData.loc[seriesData.shape[0]] = [DNI,Login,Password,Email,Telefono]\n",
        "    usuarioData.to_csv('/content/drive/My Drive/ABP_4_Teledocencia/SPRINT 2/CSV/usuario.csv',index = False)\n",
        "    print (\"----------------------------\")\n",
        "    print (\" ¡Usuario añadido con éxito!\")\n",
        "    print (\"----------------------------\")\n",
        "    añadirGusto(DNI)\n",
        "    añadirSerieVis(DNI)\n",
        "\n",
        "    return usuarioData.tail(1)\n",
        "\n",
        "def añadirGusto(DNI): \n",
        "\n",
        "    Genero = input (\"Por favor, introduce un género de tu gusto: \")\n",
        "\n",
        "    gustosData.loc[gustosData.shape[0]] = [DNI,Genero]\n",
        "    gustosData.to_csv('/content/drive/My Drive/ABP_4_Teledocencia/SPRINT 2/CSV/Gustos_genero.csv',index = False)\n",
        "    print (\"----------------------------\")\n",
        "    print (\" ¡Genero añadido con éxito!\")\n",
        "    print (\"----------------------------\")\n",
        "\n",
        "\n",
        "    return gustosData.tail(1)\n",
        "\n",
        "def añadirSerieVis(DNI):\n",
        "    Titulo = input (\"Por favor, introduce el titulo de la serie que hayas visualizado: \")\n",
        "    Satis = input (\"Por favor, introduce el grado de satisfaccion de la serie que hayas visualizado(1 - Me ha gustado, 0 - Indiferente, -1 - No me ha gustado): \")\n",
        "\n",
        "\n",
        "    series_visData.loc[series_visData.shape[0]] = [DNI,Titulo,Satis]\n",
        "    series_visData.to_csv('/content/drive/My Drive/ABP_4_Teledocencia/SPRINT 2/CSV/Series_visualizadas.csv',index = False)\n",
        "    print (\"----------------------------\")\n",
        "    print (\" ¡Serie añadida con éxito!\")\n",
        "    print (\"----------------------------\")\n",
        "\n",
        "\n",
        "    return usuarioData.tail(1)\n",
        "\n",
        "añadirUsuario()"
      ],
      "execution_count": null,
      "outputs": [
        {
          "output_type": "stream",
          "text": [
            "Por favor, introduce el DNI del usuario: 45144479X\n",
            "Por favor, introduce el login del usuario: Alex\n",
            "Por favor, introduce la password del usuario: Alex\n",
            "Por favor, introduce el email del usuario: jhjkm@ihnk.mnbu\n",
            "Por favor, introduce el teléfono del usuario: 867187\n",
            "----------------------------\n",
            " ¡Usuario añadido con éxito!\n",
            "----------------------------\n",
            "Por favor, introduce un género de tu gusto: Comedia\n",
            "----------------------------\n",
            " ¡Genero añadido con éxito!\n",
            "----------------------------\n",
            "Por favor, introduce el id de la serie que hayas visualizado: 2\n",
            "Por favor, introduce el grado de satisfaccion de la serie que hayas visualizado(1 - Me ha gustado, 0 - Indiferente, -1 - No me ha gustado): 0\n",
            "----------------------------\n",
            " ¡Serie añadida con éxito!\n",
            "----------------------------\n"
          ],
          "name": "stdout"
        },
        {
          "output_type": "execute_result",
          "data": {
            "text/html": [
              "<div>\n",
              "<style scoped>\n",
              "    .dataframe tbody tr th:only-of-type {\n",
              "        vertical-align: middle;\n",
              "    }\n",
              "\n",
              "    .dataframe tbody tr th {\n",
              "        vertical-align: top;\n",
              "    }\n",
              "\n",
              "    .dataframe thead th {\n",
              "        text-align: right;\n",
              "    }\n",
              "</style>\n",
              "<table border=\"1\" class=\"dataframe\">\n",
              "  <thead>\n",
              "    <tr style=\"text-align: right;\">\n",
              "      <th></th>\n",
              "      <th>DNI</th>\n",
              "      <th>Login</th>\n",
              "      <th>Password</th>\n",
              "      <th>Email</th>\n",
              "      <th>Telefono</th>\n",
              "    </tr>\n",
              "  </thead>\n",
              "  <tbody>\n",
              "    <tr>\n",
              "      <th>0</th>\n",
              "      <td>24578169L</td>\n",
              "      <td>admin</td>\n",
              "      <td>admin</td>\n",
              "      <td>admin@gmail.com</td>\n",
              "      <td>758884194</td>\n",
              "    </tr>\n",
              "    <tr>\n",
              "      <th>1</th>\n",
              "      <td>45144479X</td>\n",
              "      <td>Alex</td>\n",
              "      <td>Alex</td>\n",
              "      <td>jhjkm@ihnk.mnbu</td>\n",
              "      <td>867187</td>\n",
              "    </tr>\n",
              "  </tbody>\n",
              "</table>\n",
              "</div>"
            ],
            "text/plain": [
              "         DNI  Login Password            Email   Telefono\n",
              "0  24578169L  admin    admin  admin@gmail.com  758884194\n",
              "1  45144479X   Alex     Alex  jhjkm@ihnk.mnbu     867187"
            ]
          },
          "metadata": {
            "tags": []
          },
          "execution_count": 8
        }
      ]
    },
    {
      "cell_type": "markdown",
      "metadata": {
        "id": "54yq33FqecWU"
      },
      "source": [
        "##Consultar Usuarios\n",
        "Para consultar un usuario, se presiona el botón Consultar en su perfil.\n",
        "\n",
        "---\n",
        "\n",
        "***Manual de uso: Consultar Usuario***\n",
        "\n",
        "Para consultar un usuario es necesario ejecutar la función consultarUsuario(), esta función solicitará el DNI del usuario que se quiere consultar.\n",
        "\n",
        "1.   Se introduce el DNI del usuario que se quiere consultar\n",
        "\n",
        "El sistema muestra la información del usuario, sus gustos y sus series vistas."
      ]
    },
    {
      "cell_type": "code",
      "metadata": {
        "id": "4wJkk5x1ejoB",
        "colab": {
          "base_uri": "https://localhost:8080/",
          "height": 161
        },
        "outputId": "2ec762a8-3ffd-456e-ed1b-b4002bfb7c7a"
      },
      "source": [
        "def consultarUsuario(): \t\n",
        "    DNI = input (\"Por favor, introduce el DNI del usuario que desea consultar: \")\t\n",
        "    Usuario = usuarioData[usuarioData[\"DNI\"] == DNI]\n",
        "\n",
        "    Gustos = consultarGustos(DNI)\n",
        "    consultarSeriesVis(DNI)\n",
        "\n",
        "    return Usuario\n",
        "\n",
        "def consultarGustos(DNI): \n",
        "    Gustos = gustosData[gustosData['DNI']==DNI]\n",
        "    print(Gustos)\n",
        "\n",
        "    return\n",
        "\n",
        "def consultarSeriesVis(DNI):\n",
        "    SeriesVis = series_visData[series_visData['DNI']==DNI]\n",
        "    print(SeriesVis)\n",
        "\n",
        "    return\n",
        "\n",
        "consultarUsuario()"
      ],
      "execution_count": null,
      "outputs": [
        {
          "output_type": "stream",
          "text": [
            "Por favor, introduce el DNI del usuario que desea consultar: 45144479X\n",
            "         DNI   Genero\n",
            "3  45144479X  Comedia\n",
            "         DNI ID Satisfaccion\n",
            "3  45144479X  2            0\n"
          ],
          "name": "stdout"
        },
        {
          "output_type": "execute_result",
          "data": {
            "text/html": [
              "<div>\n",
              "<style scoped>\n",
              "    .dataframe tbody tr th:only-of-type {\n",
              "        vertical-align: middle;\n",
              "    }\n",
              "\n",
              "    .dataframe tbody tr th {\n",
              "        vertical-align: top;\n",
              "    }\n",
              "\n",
              "    .dataframe thead th {\n",
              "        text-align: right;\n",
              "    }\n",
              "</style>\n",
              "<table border=\"1\" class=\"dataframe\">\n",
              "  <thead>\n",
              "    <tr style=\"text-align: right;\">\n",
              "      <th></th>\n",
              "      <th>DNI</th>\n",
              "      <th>Login</th>\n",
              "      <th>Password</th>\n",
              "      <th>Email</th>\n",
              "      <th>Telefono</th>\n",
              "    </tr>\n",
              "  </thead>\n",
              "  <tbody>\n",
              "    <tr>\n",
              "      <th>1</th>\n",
              "      <td>45144479X</td>\n",
              "      <td>Alex</td>\n",
              "      <td>Alex</td>\n",
              "      <td>jhjkm@ihnk.mnbu</td>\n",
              "      <td>867187</td>\n",
              "    </tr>\n",
              "  </tbody>\n",
              "</table>\n",
              "</div>"
            ],
            "text/plain": [
              "         DNI Login Password            Email Telefono\n",
              "1  45144479X  Alex     Alex  jhjkm@ihnk.mnbu   867187"
            ]
          },
          "metadata": {
            "tags": []
          },
          "execution_count": 9
        }
      ]
    },
    {
      "cell_type": "markdown",
      "metadata": {
        "id": "eXw_I9jYNW44"
      },
      "source": [
        "##Modificar Usuarios\n",
        "Para modifciar un usuario, se presiona el botón Modificar en su perfil.\n",
        "\n",
        "En el caso de que no se escriba nada se dejará el texto que tenía antes.\n",
        "\n",
        "Tanto para series visualizadas como para gustos el usuario deberá decidir si quiere añadir o eliminar.\n",
        "\n",
        "---\n",
        "\n",
        "***Manual de uso: Modificar Usuario***\n",
        "\n",
        "Para modificar un usuario es necesario ejecutar la función modificarUsuario(), esta función solicitará el DNI del usuario que se quiere modificar y los valores del usuario, en caso de no querer cambiar un valor se dejará en blanco, la función preguntará si se quieren editar los gustos del usuario y las series vistas, en caso afirmativo el sistema edita los correspondientes valores.\n",
        "\n",
        "\n",
        "Se ejecuta la función **modificarUsuario**()\n",
        "1.   Se introduce el nuevo DNI del usuario\n",
        "2.   Se introduce el nuevo Login del usuario\n",
        "3.   Se introduce la nueva contraseña del usuario\n",
        "4.   Se introduce el nuevo mail del usuario\n",
        "5.   Se introduce el nuevo teléfono del usuario\n",
        "\n",
        "Se cambian los valores del usuario en el DataFrame usuarioData.\n",
        "\n",
        "\n",
        "---\n",
        "\n",
        "*El sistema pregunta si se quiere agregar o eliminar un gusto:* \n",
        "\n",
        "En caso de **Agregar**:\n",
        "1.   Se introduce el género que le gusta al usuario\n",
        "\n",
        "Se insertan los gustos del usuario en el DataFrame gustosData.\n",
        "\n",
        "En caso de **Eliminar**:\n",
        "1.   Se introduce el género que quiere eliminar del usuario\n",
        "\n",
        "Se elimina los gustos del usuario en el DataFrame gustosData.\n",
        "\n",
        "\n",
        "---\n",
        "\n",
        "*El sistema pregunta si se quiere agregar o eliminar un gusto:*\n",
        "\n",
        "En caso de **Agregar**:\n",
        "1.   Se introduce el id de la serie que ha visto el usuario\n",
        "2.   Se introduce el grado de satisfación con dicha serie\n",
        "\n",
        "Se insertan las series vistas por el usuario en el DataFrame series_visData.\n",
        "\n",
        "En caso de **Eliminar**:\n",
        "1.   Se introduce el id de la serie que se quiere eliminar de las vistas por el usuario\n",
        "\n",
        "Se elimina de las series vistas por el usuario en el DataFrame series_visData."
      ]
    },
    {
      "cell_type": "code",
      "metadata": {
        "id": "mRHAFFUZNrsS",
        "colab": {
          "base_uri": "https://localhost:8080/",
          "height": 607
        },
        "outputId": "b920397c-0444-4365-bf42-582e29e0b7be"
      },
      "source": [
        "def modificarUsuario(): \n",
        "    DNI = input (\"Por favor, introduce el DNI del usuario que se desea modificar: \")\n",
        "    Usuarios = usuarioData[usuarioData[\"DNI\"] == DNI]\n",
        "    valor = Usuarios.index.values\n",
        "    \n",
        "    Login = input (\"Escriba algo si desea modificar el login del usuario: \")\t\n",
        "    if Login == \"\" :\n",
        "      Login = Usuarios[\"Login\"].values[0]\n",
        "    \n",
        "    Password\t= input (\"Escriba algo si desea modificar la password del usuario: \")\t\n",
        "    if Password == \"\" :\n",
        "      Password = Usuarios[\"Password\"].values[0]    \n",
        "    \n",
        "    Email\t= input (\"Escriba algo si desea modificar el email del usuario: \")\t\n",
        "    if Email == \"\" :\n",
        "      Email = Usuarios[\"Email\"].values[0]    \n",
        "    \n",
        "    Telefono = input (\"Escriba algo si desea modificar el teléfono del usuario: \")\n",
        "    if Telefono == \"\" :\n",
        "      Telefono = Usuarios[\"Telefono\"].values[0]\n",
        "\n",
        "\n",
        "\n",
        "    usuarioData.loc[valor[0]] = [DNI,Login,Password,Email,Telefono]\n",
        "    usuarioData.to_csv('/content/drive/My Drive/ABP_4_Teledocencia/SPRINT 2/CSV/usuario.csv',index = False)\n",
        "    print (\"----------------------------\")\n",
        "    print (\" ¡Usuario modificado con éxito!\")\n",
        "    print (\"----------------------------\")\n",
        "\n",
        "    Pregunta1 = input (\"¿Entrar en gustos?(si/no) \")\n",
        "    if Pregunta1 == \"si\" :\n",
        "      PreguntaGustos = Pregunta1 \n",
        "      while PreguntaGustos == \"si\" :\n",
        "        modificarGusto(DNI)\n",
        "        PreguntaGustos = input (\"¿Entrar en gustos?(si?) \")\n",
        "\n",
        "    Pregunta2 = input (\"¿Entrar en series visualizadas?(si/no) \")\n",
        "    if Pregunta2 == \"si\" :\n",
        "      PreguntaSeries = Pregunta2\n",
        "      while PreguntaSeries == \"si\" :\n",
        "        modificarSerieVis(DNI)\n",
        "        PreguntaSeries = input (\"¿Entrar en series?(si?)\")\n",
        "\n",
        "    return usuarioData.loc[[valor[0]]]\n",
        "\n",
        "def modificarGusto(DNI): \n",
        "    global gustosData\n",
        "    Pregunta = input (\"¿Quiere agregar un gusto o eliminar?\")\n",
        "\n",
        "    if Pregunta == \"agregar\" :\n",
        "      Genero = input (\"Por favor, introduce un género a agregar: \")\n",
        "      gustosData.loc[gustosData.shape[0]] = [DNI,Genero]\n",
        "      gustosData.to_csv('/content/drive/My Drive/ABP_4_Teledocencia/SPRINT 2/CSV/Gustos_genero.csv',index = False)\n",
        "      print (\"----------------------------\")\n",
        "      print (\" ¡Genero modificado con éxito!\")\n",
        "      print (\"----------------------------\")\n",
        "\n",
        "    elif Pregunta == \"eliminar\" :\n",
        "      Genero = input (\"Por favor, introduce un género a eliminar: \")\n",
        "      gustosData = gustosData.drop(gustosData[(gustosData['DNI']==DNI) & (gustosData['Genero']==Genero)].index)\n",
        "      gustosData.to_csv('/content/drive/My Drive/ABP_4_Teledocencia/SPRINT 2/CSV/Gustos_genero.csv',index = False)\n",
        "      print (\"----------------------------\")\n",
        "      print (\" ¡Genero eliminado con éxito!\")\n",
        "      print (\"----------------------------\")\n",
        "\n",
        "    else : \n",
        "      print (\"----------------------------\")\n",
        "      print (\"No se ha realizado ninguna modificación\")\n",
        "      print (\"----------------------------\")\n",
        "\n",
        "    return\n",
        "\n",
        "def modificarSerieVis(DNI):\n",
        "    global series_visData\n",
        "\n",
        "    Pregunta = input (\"¿Quiere agregar serie visualizada o eliminar?\")\n",
        "\n",
        "    if Pregunta == \"agregar\" :\n",
        "      Titulo = input (\"Por favor, introduce el titulo de la serie que hayas visualizado: \")\n",
        "      Satis = input (\"Por favor, introduce el grado de satisfaccion de la serie que hayas visualizado(1 - Me ha gustado, 0 - Indiferente, -1 - No me ha gustado): \")\n",
        "      series_visData.loc[series_visData.shape[0]] = [DNI,Titulo,Satis]\n",
        "      series_visData.to_csv('/content/drive/My Drive/ABP_4_Teledocencia/SPRINT 2/CSV/Series_visualizadas.csv',index = False)\n",
        "      print (\"----------------------------\")\n",
        "      print (\" ¡Serie modificada con éxito!\")\n",
        "      print (\"----------------------------\")\n",
        "    \n",
        "    elif Pregunta == \"eliminar\" :\n",
        "      Titulo = input (\"Por favor, introduce el titulo de la serie que quieras eliminar de visualizados: \")\n",
        "      series_visData = series_visData.drop(series_visData[(series_visData['DNI']==DNI) & (series_visData['Titulo']==Titulo)].index)\n",
        "      series_visData.to_csv('/content/drive/My Drive/ABP_4_Teledocencia/SPRINT 2/CSV/Series_visualizadas.csv',index = False)\n",
        "      print (\"----------------------------\")\n",
        "      print (\" ¡Serie eliminada con éxito!\")\n",
        "      print (\"----------------------------\")\n",
        "\n",
        "    else :\n",
        "      print (\"----------------------------\")\n",
        "      print (\"No se ha realizado ninguna modificación\")\n",
        "      print (\"----------------------------\")\n",
        "\n",
        "    \n",
        "    return\n",
        "\n",
        "modificarUsuario()"
      ],
      "execution_count": null,
      "outputs": [
        {
          "output_type": "stream",
          "text": [
            "Por favor, introduce el DNI del usuario que se desea modificar: 41282090S\n",
            "Escriba algo si desea modificar el login del usuario: \n",
            "Escriba algo si desea modificar la password del usuario: \n",
            "Escriba algo si desea modificar el email del usuario: \n",
            "Escriba algo si desea modificar el teléfono del usuario: \n",
            "----------------------------\n",
            " ¡Usuario modificado con éxito!\n",
            "----------------------------\n",
            "¿Entrar en gustos?(si/no) no\n",
            "¿Entrar en series visualizadas?(si/no) si\n",
            "¿Quiere agregar serie visualizada o eliminar?agregar\n",
            "Por favor, introduce el titulo de la serie que hayas visualizado: Psych\n",
            "Por favor, introduce el grado de satisfaccion de la serie que hayas visualizado(1 - Me ha gustado, 0 - Indiferente, -1 - No me ha gustado): 1\n",
            "----------------------------\n",
            " ¡Serie modificada con éxito!\n",
            "----------------------------\n",
            "¿Entrar en series?(si?)si\n",
            "¿Quiere agregar serie visualizada o eliminar?agregar\n",
            "Por favor, introduce el titulo de la serie que hayas visualizado: Breaking Bad\n",
            "Por favor, introduce el grado de satisfaccion de la serie que hayas visualizado(1 - Me ha gustado, 0 - Indiferente, -1 - No me ha gustado): -1\n",
            "----------------------------\n",
            " ¡Serie modificada con éxito!\n",
            "----------------------------\n",
            "¿Entrar en series?(si?)si\n",
            "¿Quiere agregar serie visualizada o eliminar?agregar\n",
            "Por favor, introduce el titulo de la serie que hayas visualizado: White Collar\n",
            "Por favor, introduce el grado de satisfaccion de la serie que hayas visualizado(1 - Me ha gustado, 0 - Indiferente, -1 - No me ha gustado): -1\n",
            "----------------------------\n",
            " ¡Serie modificada con éxito!\n",
            "----------------------------\n",
            "¿Entrar en series?(si?)no\n"
          ],
          "name": "stdout"
        },
        {
          "output_type": "execute_result",
          "data": {
            "text/html": [
              "<div>\n",
              "<style scoped>\n",
              "    .dataframe tbody tr th:only-of-type {\n",
              "        vertical-align: middle;\n",
              "    }\n",
              "\n",
              "    .dataframe tbody tr th {\n",
              "        vertical-align: top;\n",
              "    }\n",
              "\n",
              "    .dataframe thead th {\n",
              "        text-align: right;\n",
              "    }\n",
              "</style>\n",
              "<table border=\"1\" class=\"dataframe\">\n",
              "  <thead>\n",
              "    <tr style=\"text-align: right;\">\n",
              "      <th></th>\n",
              "      <th>DNI</th>\n",
              "      <th>Login</th>\n",
              "      <th>Password</th>\n",
              "      <th>Email</th>\n",
              "      <th>Telefono</th>\n",
              "    </tr>\n",
              "  </thead>\n",
              "  <tbody>\n",
              "    <tr>\n",
              "      <th>99</th>\n",
              "      <td>41282090S</td>\n",
              "      <td>apriscott2r</td>\n",
              "      <td>Dm6zay</td>\n",
              "      <td>abreazeall2r@amazon.de</td>\n",
              "      <td>29013525</td>\n",
              "    </tr>\n",
              "  </tbody>\n",
              "</table>\n",
              "</div>"
            ],
            "text/plain": [
              "          DNI        Login Password                   Email  Telefono\n",
              "99  41282090S  apriscott2r   Dm6zay  abreazeall2r@amazon.de  29013525"
            ]
          },
          "metadata": {
            "tags": []
          },
          "execution_count": 66
        }
      ]
    },
    {
      "cell_type": "markdown",
      "metadata": {
        "id": "HhD2h3CpCoxu"
      },
      "source": [
        "##Eliminar Usuario\n",
        "\n",
        "---\n",
        "\n",
        "***Manual de uso: Eliminar Usuario***\n",
        "\n",
        "Para eliminar un usuario es necesario ejecutar la función eliminarUsuario(), esta función solicitará el DNI del usuario que se quiere eliminar y la borra del DataFrame usuarioData():\n",
        "\n",
        "1.   Se introduce el DNI del usuario que se quiere eliminar\n",
        "\n",
        "Una vez eliminado el usuario el sistema devuelve la lista de usuarios almacenados."
      ]
    },
    {
      "cell_type": "code",
      "metadata": {
        "id": "-sl_ngFUCsdx",
        "colab": {
          "base_uri": "https://localhost:8080/",
          "height": 144
        },
        "outputId": "ca28fd4c-3fa8-44b3-d58f-ec04e430e1f9"
      },
      "source": [
        "def eliminarUsuario(): \t\n",
        "    DNI = input (\"Por favor, introduce el DNI del usuario que desea eliminar: \")\t\n",
        "    global usuarioData\n",
        "    global gustosData\n",
        "    global series_visData\n",
        "\n",
        "    usuarioData = usuarioData.drop(usuarioData[usuarioData['DNI']==DNI].index)\n",
        "    gustosData = gustosData.drop(gustosData[gustosData['DNI']==DNI].index)\n",
        "    series_visData = series_visData.drop(series_visData[series_visData['DNI']==DNI].index)\n",
        "\n",
        "    usuarioData.to_csv('/content/drive/My Drive/ABP_4_Teledocencia/SPRINT 2/CSV/usuario.csv',index = False)\n",
        "    gustosData.to_csv('/content/drive/My Drive/ABP_4_Teledocencia/SPRINT 2/CSV/Gustos_genero.csv',index = False)\n",
        "    series_visData.to_csv('/content/drive/My Drive/ABP_4_Teledocencia/SPRINT 2/CSV/Series_visualizadas.csv',index = False)\n",
        "\n",
        "    print (\"----------------------------\")\n",
        "    print (\" ¡Usuario eliminado con éxito!\")\n",
        "    print (\"----------------------------\")\n",
        "    return usuarioData\n",
        "eliminarUsuario()"
      ],
      "execution_count": null,
      "outputs": [
        {
          "output_type": "stream",
          "text": [
            "Por favor, introduce el DNI del usuario que desea eliminar: 45144479X\n",
            "----------------------------\n",
            " ¡Usuario eliminado con éxito!\n",
            "----------------------------\n"
          ],
          "name": "stdout"
        },
        {
          "output_type": "execute_result",
          "data": {
            "text/html": [
              "<div>\n",
              "<style scoped>\n",
              "    .dataframe tbody tr th:only-of-type {\n",
              "        vertical-align: middle;\n",
              "    }\n",
              "\n",
              "    .dataframe tbody tr th {\n",
              "        vertical-align: top;\n",
              "    }\n",
              "\n",
              "    .dataframe thead th {\n",
              "        text-align: right;\n",
              "    }\n",
              "</style>\n",
              "<table border=\"1\" class=\"dataframe\">\n",
              "  <thead>\n",
              "    <tr style=\"text-align: right;\">\n",
              "      <th></th>\n",
              "      <th>DNI</th>\n",
              "      <th>Login</th>\n",
              "      <th>Password</th>\n",
              "      <th>Email</th>\n",
              "      <th>Telefono</th>\n",
              "    </tr>\n",
              "  </thead>\n",
              "  <tbody>\n",
              "    <tr>\n",
              "      <th>0</th>\n",
              "      <td>24578169L</td>\n",
              "      <td>admin</td>\n",
              "      <td>admin</td>\n",
              "      <td>admin@gmail.com</td>\n",
              "      <td>758884194</td>\n",
              "    </tr>\n",
              "  </tbody>\n",
              "</table>\n",
              "</div>"
            ],
            "text/plain": [
              "         DNI  Login Password            Email   Telefono\n",
              "0  24578169L  admin    admin  admin@gmail.com  758884194"
            ]
          },
          "metadata": {
            "tags": []
          },
          "execution_count": 12
        }
      ]
    },
    {
      "cell_type": "markdown",
      "metadata": {
        "id": "5faolWzAT95r"
      },
      "source": [
        "# Sistema de recomendación basado en contenido\n"
      ]
    },
    {
      "cell_type": "markdown",
      "metadata": {
        "id": "jFDgraBoj04R"
      },
      "source": [
        "##Preparación recomendador\r\n",
        "Aquí se muestran las ejecuciones necesarias para inicializar el recomendador\r\n",
        "\r\n",
        "\r\n",
        "---\r\n",
        "\r\n",
        "\r\n",
        "***Manual de uso***\r\n",
        "\r\n",
        "***1º***\r\n",
        "\r\n",
        "En este bloque con el uso de una bolsa de palabras cogeremos las palabras más relevantes de las descripciones de cada serie, y las mostramos en una nueva columna denominada \"Descripcion_Procesada\""
      ]
    },
    {
      "cell_type": "code",
      "metadata": {
        "id": "5NxKnSCaUVuY",
        "colab": {
          "base_uri": "https://localhost:8080/",
          "height": 657
        },
        "outputId": "049322c8-f08a-40fd-ddb9-ca1748624d5c"
      },
      "source": [
        "from nltk.tokenize import word_tokenize \n",
        "from nltk.corpus import stopwords\n",
        "from nltk.stem import PorterStemmer\n",
        "\n",
        "import nltk\n",
        "nltk.download('punkt')\n",
        "nltk.download('stopwords')\n",
        "\n",
        "ps = PorterStemmer()\n",
        "\n",
        "descripcionProcesado = []\n",
        "\n",
        "for columna in seriesData.itertuples():\n",
        "    \n",
        "    \n",
        "    descripcion = word_tokenize(str(columna[4])) \n",
        "    stops = set(stopwords.words(\"english\"))\n",
        "    descripcion = [ps.stem(w) for w in descripcion if not w in stops and w.isalnum()]\n",
        "    descripcion = \" \".join(descripcion)\n",
        "    \n",
        "    descripcionProcesado.append(descripcion)\n",
        "\n",
        "preprocesadoData = seriesData\n",
        "preprocesadoData['Descripcion_Procesada'] = descripcionProcesado\n",
        "\n",
        "preprocesadoData"
      ],
      "execution_count": null,
      "outputs": [
        {
          "output_type": "stream",
          "text": [
            "[nltk_data] Downloading package punkt to /root/nltk_data...\n",
            "[nltk_data]   Unzipping tokenizers/punkt.zip.\n",
            "[nltk_data] Downloading package stopwords to /root/nltk_data...\n",
            "[nltk_data]   Unzipping corpora/stopwords.zip.\n"
          ],
          "name": "stdout"
        },
        {
          "output_type": "execute_result",
          "data": {
            "text/html": [
              "<div>\n",
              "<style scoped>\n",
              "    .dataframe tbody tr th:only-of-type {\n",
              "        vertical-align: middle;\n",
              "    }\n",
              "\n",
              "    .dataframe tbody tr th {\n",
              "        vertical-align: top;\n",
              "    }\n",
              "\n",
              "    .dataframe thead th {\n",
              "        text-align: right;\n",
              "    }\n",
              "</style>\n",
              "<table border=\"1\" class=\"dataframe\">\n",
              "  <thead>\n",
              "    <tr style=\"text-align: right;\">\n",
              "      <th></th>\n",
              "      <th>Actores</th>\n",
              "      <th>Director</th>\n",
              "      <th>Genero</th>\n",
              "      <th>Descripcion</th>\n",
              "      <th>Anho</th>\n",
              "      <th>Titulo</th>\n",
              "      <th>Descripcion_Procesada</th>\n",
              "    </tr>\n",
              "  </thead>\n",
              "  <tbody>\n",
              "    <tr>\n",
              "      <th>0</th>\n",
              "      <td>Rami Malek, Christian Slater, Carly Chaikin, M...</td>\n",
              "      <td>Sam Esmail</td>\n",
              "      <td>Crime, Drama, Thriller</td>\n",
              "      <td>Elliot, a brilliant but highly unstable young ...</td>\n",
              "      <td>24 Jun 2015</td>\n",
              "      <td>Mr. Robot</td>\n",
              "      <td>elliot brilliant highli unstabl young engin vi...</td>\n",
              "    </tr>\n",
              "    <tr>\n",
              "      <th>1</th>\n",
              "      <td>Cillian Murphy, Paul Anderson, Helen McCrory, ...</td>\n",
              "      <td>NaN</td>\n",
              "      <td>Crime, Drama</td>\n",
              "      <td>A gangster family epic set in 1919 Birmingham,...</td>\n",
              "      <td>30 Sep 2014</td>\n",
              "      <td>Peaky Blinders</td>\n",
              "      <td>A gangster famili epic set 1919 birmingham eng...</td>\n",
              "    </tr>\n",
              "    <tr>\n",
              "      <th>2</th>\n",
              "      <td>Karoline Eichhorn, Louis Hofmann, Jördis Trieb...</td>\n",
              "      <td>NaN</td>\n",
              "      <td>Crime, Drama, Mystery, Sci-Fi, Thriller</td>\n",
              "      <td>A family saga with a supernatural twist, set i...</td>\n",
              "      <td>01 Dec 2017</td>\n",
              "      <td>Dark</td>\n",
              "      <td>A famili saga supernatur twist set german town...</td>\n",
              "    </tr>\n",
              "    <tr>\n",
              "      <th>3</th>\n",
              "      <td>Bryan Cranston, Anna Gunn, Aaron Paul, Betsy B...</td>\n",
              "      <td>NaN</td>\n",
              "      <td>Crime, Drama, Thriller</td>\n",
              "      <td>A high school chemistry teacher diagnosed with...</td>\n",
              "      <td>20 Jan 2008</td>\n",
              "      <td>Breaking Bad</td>\n",
              "      <td>A high school chemistri teacher diagnos inoper...</td>\n",
              "    </tr>\n",
              "    <tr>\n",
              "      <th>4</th>\n",
              "      <td>Peter Dinklage, Lena Headey, Emilia Clarke, Ki...</td>\n",
              "      <td>NaN</td>\n",
              "      <td>Action, Adventure, Drama, Fantasy, Romance</td>\n",
              "      <td>Nine noble families fight for control over the...</td>\n",
              "      <td>17 Apr 2011</td>\n",
              "      <td>Game of Thrones</td>\n",
              "      <td>nine nobl famili fight control mythic land wes...</td>\n",
              "    </tr>\n",
              "    <tr>\n",
              "      <th>...</th>\n",
              "      <td>...</td>\n",
              "      <td>...</td>\n",
              "      <td>...</td>\n",
              "      <td>...</td>\n",
              "      <td>...</td>\n",
              "      <td>...</td>\n",
              "      <td>...</td>\n",
              "    </tr>\n",
              "    <tr>\n",
              "      <th>123</th>\n",
              "      <td>Piper Perabo, Christopher Gorham, Kari Matchet...</td>\n",
              "      <td>NaN</td>\n",
              "      <td>Action, Crime, Drama, Mystery, Thriller</td>\n",
              "      <td>Fresh out of the farm, Annie Walker must adapt...</td>\n",
              "      <td>13 Jul 2010</td>\n",
              "      <td>Covert Affairs</td>\n",
              "      <td>fresh farm anni walker must adapt challeng lif...</td>\n",
              "    </tr>\n",
              "    <tr>\n",
              "      <th>124</th>\n",
              "      <td>Jeffrey Donovan, Gabrielle Anwar, Bruce Campbe...</td>\n",
              "      <td>NaN</td>\n",
              "      <td>Action, Crime, Drama, Mystery, Thriller</td>\n",
              "      <td>A spy recently disavowed by the U.S. governmen...</td>\n",
              "      <td>28 Jun 2007</td>\n",
              "      <td>Burn Notice</td>\n",
              "      <td>A spi recent disavow govern use special op tra...</td>\n",
              "    </tr>\n",
              "    <tr>\n",
              "      <th>125</th>\n",
              "      <td>Matt Bomer, Tim DeKay, Willie Garson, Tiffani ...</td>\n",
              "      <td>NaN</td>\n",
              "      <td>Comedy, Crime, Drama, Mystery</td>\n",
              "      <td>A white collar criminal agrees to help the FBI...</td>\n",
              "      <td>23 Oct 2009</td>\n",
              "      <td>White Collar</td>\n",
              "      <td>A white collar crimin agre help fbi catch whit...</td>\n",
              "    </tr>\n",
              "    <tr>\n",
              "      <th>126</th>\n",
              "      <td>James Roday, Dulé Hill, Timothy Omundson, Magg...</td>\n",
              "      <td>NaN</td>\n",
              "      <td>Comedy, Crime, Mystery</td>\n",
              "      <td>A novice sleuth is hired by the Police after h...</td>\n",
              "      <td>07 Jul 2006</td>\n",
              "      <td>Psych</td>\n",
              "      <td>A novic sleuth hire polic con think psychic po...</td>\n",
              "    </tr>\n",
              "    <tr>\n",
              "      <th>127</th>\n",
              "      <td>Tony Shalhoub, Jason Gray-Stanford, Ted Levine...</td>\n",
              "      <td>NaN</td>\n",
              "      <td>Comedy, Crime, Drama, Mystery</td>\n",
              "      <td>Adrian Monk is a brilliant San Francisco detec...</td>\n",
              "      <td>12 Jul 2002</td>\n",
              "      <td>Monk</td>\n",
              "      <td>adrian monk brilliant san francisco detect who...</td>\n",
              "    </tr>\n",
              "  </tbody>\n",
              "</table>\n",
              "<p>128 rows × 7 columns</p>\n",
              "</div>"
            ],
            "text/plain": [
              "                                               Actores  ...                              Descripcion_Procesada\n",
              "0    Rami Malek, Christian Slater, Carly Chaikin, M...  ...  elliot brilliant highli unstabl young engin vi...\n",
              "1    Cillian Murphy, Paul Anderson, Helen McCrory, ...  ...  A gangster famili epic set 1919 birmingham eng...\n",
              "2    Karoline Eichhorn, Louis Hofmann, Jördis Trieb...  ...  A famili saga supernatur twist set german town...\n",
              "3    Bryan Cranston, Anna Gunn, Aaron Paul, Betsy B...  ...  A high school chemistri teacher diagnos inoper...\n",
              "4    Peter Dinklage, Lena Headey, Emilia Clarke, Ki...  ...  nine nobl famili fight control mythic land wes...\n",
              "..                                                 ...  ...                                                ...\n",
              "123  Piper Perabo, Christopher Gorham, Kari Matchet...  ...  fresh farm anni walker must adapt challeng lif...\n",
              "124  Jeffrey Donovan, Gabrielle Anwar, Bruce Campbe...  ...  A spi recent disavow govern use special op tra...\n",
              "125  Matt Bomer, Tim DeKay, Willie Garson, Tiffani ...  ...  A white collar crimin agre help fbi catch whit...\n",
              "126  James Roday, Dulé Hill, Timothy Omundson, Magg...  ...  A novic sleuth hire polic con think psychic po...\n",
              "127  Tony Shalhoub, Jason Gray-Stanford, Ted Levine...  ...  adrian monk brilliant san francisco detect who...\n",
              "\n",
              "[128 rows x 7 columns]"
            ]
          },
          "metadata": {
            "tags": []
          },
          "execution_count": 3
        }
      ]
    },
    {
      "cell_type": "markdown",
      "metadata": {
        "id": "DFGn9CLLkh9Y"
      },
      "source": [
        "***2º***\r\n",
        "\r\n",
        "Con la métrica coseno calcularemos la distancia de cada serie entre ellas para saber lo que se asemejan unas a otras y poder hacer así la recomendación.\r\n",
        "\r\n",
        "Se utiliza una distancia de vector coseno ya que tras probar el resto nos parece la que mejores resultados nos proporciona, junto con la euclídea. Su funcionamiento es el siguiente: Crea un espacio vectorial con n dimensiones correspondientes a los n items, situando los vectores según sus datos. Luego calcula el ángulo entre los vectores partiendo de la “coordenada cero”. Menor distancia significa mayor similitud.\r\n"
      ]
    },
    {
      "cell_type": "code",
      "metadata": {
        "id": "2ONTbiBqrSso"
      },
      "source": [
        "from sklearn.feature_extraction.text import TfidfVectorizer\n",
        "from sklearn.metrics import pairwise_distances\n",
        "\n",
        "bagOfWordsModel = TfidfVectorizer()\n",
        "bagOfWordsModel.fit(preprocesadoData['Descripcion_Procesada'])\n",
        "textsBoW= bagOfWordsModel.transform(preprocesadoData['Descripcion_Procesada'])\n",
        "distanciaMatriz= pairwise_distances(textsBoW,textsBoW ,metric='cosine')"
      ],
      "execution_count": null,
      "outputs": []
    },
    {
      "cell_type": "markdown",
      "metadata": {
        "id": "-RPq8rO7lC3M"
      },
      "source": [
        "##Sistema de recomendación contenido serie\r\n",
        "\r\n",
        "***Manual de uso: Sistema de recomendación basado en contenido***\r\n",
        "\r\n",
        "Para recomendar una serie basandonos en su contenido será necesario ejecutar la función recomendacionSerie(), esta pedirá el nombre de la serie según la que queremos tener recomendaciones.\r\n",
        "\r\n",
        "1.   Se introduce el titulo de la serie\r\n",
        "\r\n",
        "Se muestras las series recomendadas de esta."
      ]
    },
    {
      "cell_type": "code",
      "metadata": {
        "id": "hOoqiT2jrfSY",
        "colab": {
          "base_uri": "https://localhost:8080/"
        },
        "outputId": "0fdf3398-5929-4593-8c5b-82367dc2b588"
      },
      "source": [
        "def recomendacionSerie():\n",
        "  tituloBuscado = input (\"Por favor, introduce el título de la serie por la que quieres que te recomendemos: \")\n",
        "  indexTitulo = preprocesadoData[preprocesadoData['Titulo']==tituloBuscado].index.values[0]\n",
        "  titulosOrdenados = sorted(list(enumerate(distanciaMatriz[indexTitulo])), key=lambda x: x[1])\n",
        "  topTitulos = titulosOrdenados[1:11]\n",
        "  topIndexes = [i[0] for i in topTitulos]\n",
        "  return preprocesadoData['Titulo'].iloc[topIndexes]\n",
        "\n",
        "recomendacionSerie()"
      ],
      "execution_count": null,
      "outputs": [
        {
          "output_type": "stream",
          "text": [
            "Por favor, introduce el título de la serie por la que quieres que te recomendemos: Dark\n"
          ],
          "name": "stdout"
        },
        {
          "output_type": "execute_result",
          "data": {
            "text/plain": [
              "33    Stranger Things\n",
              "20           Big Love\n",
              "62        Ray Donovan\n",
              "32        Cable Girls\n",
              "47             Genius\n",
              "37           The Rain\n",
              "77       Supernatural\n",
              "22       Here and Now\n",
              "78           Deadwood\n",
              "8        The Simpsons\n",
              "Name: Titulo, dtype: object"
            ]
          },
          "metadata": {
            "tags": []
          },
          "execution_count": 6
        }
      ]
    },
    {
      "cell_type": "markdown",
      "metadata": {
        "id": "7XVnB-YGMvMN"
      },
      "source": [
        "## Sistema de recomendación según series vistas\n",
        "\n",
        "***Manual de uso: Sistema de recomendación según series vistas***\n",
        "\n",
        "Para que un usuario obtenga las series que se le recomiendan será necesario ejecutar la función recomendacionSerieSugerida(), esta pedirá el DNI del usuario. Una vez se le pase un DNI comprobará las series que le gustan a ese usuario y de cada una de ellas cogerá las dos series que más se le asemejen a cada una y las mostrará.\n",
        "\n",
        "1.   Se introduce el DNI del usuario\n",
        "\n",
        "Se muestras las series recomendadas para este usuario según las series que le han gustado."
      ]
    },
    {
      "cell_type": "code",
      "metadata": {
        "colab": {
          "base_uri": "https://localhost:8080/"
        },
        "id": "8IA0PX_VM2IA",
        "outputId": "bdb7b697-2274-4cb9-ceca-1e296dbc9681"
      },
      "source": [
        "def recomendacionSerieSugerida():\n",
        "  usuarioBuscado = input (\"Por favor, introduce el DNI del usuario que quiere ser recomendado: \")\n",
        "  seriesVistas = series_visData[series_visData['DNI']==usuarioBuscado]\n",
        "  numSeriesVistas = len(seriesVistas)\n",
        "  i=0\n",
        "  seriesVistasGustaArray = [0] #necesario crear un array\n",
        "  seriesVistasGustaArray.clear() #borrar lo que haya antes de entrar al bucle\n",
        "  while i < numSeriesVistas:\n",
        "    if seriesVistas['Satisfaccion'][i]==\"positive\":\n",
        "      seriesVistasGustaArray.append(seriesVistas['Titulo'][i])\n",
        "    i+=1\n",
        "  i=0\n",
        "  seriesSugeridas = [0] #necesario crear un array\n",
        "  seriesSugeridas.clear() #borrar lo que haya antes de entrar al bucle\n",
        "  while i < len(seriesVistasGustaArray):\n",
        "    indexTitulo = preprocesadoData[preprocesadoData['Titulo']==seriesVistasGustaArray[i]].index.values[0]\n",
        "    titulosOrdenados = sorted(list(enumerate(distanciaMatriz[indexTitulo])), key=lambda x: x[1])\n",
        "    topTitulos = titulosOrdenados[1:3]\n",
        "    topIndexes = [j[0] for j in topTitulos]\n",
        "    seriesSugeridas.append(preprocesadoData['Titulo'].iloc[topIndexes])\n",
        "    i+=1\n",
        "  return seriesSugeridas\n",
        "\n",
        "recomendacionSerieSugerida()"
      ],
      "execution_count": null,
      "outputs": [
        {
          "output_type": "stream",
          "text": [
            "Por favor, introduce el DNI del usuario que quiere ser recomendado: 41282090S\n"
          ],
          "name": "stdout"
        },
        {
          "output_type": "execute_result",
          "data": {
            "text/plain": [
              "[33    Stranger Things\n",
              " 20           Big Love\n",
              " Name: Titulo, dtype: object, 83     Prodigal Son\n",
              " 103         Ballers\n",
              " Name: Titulo, dtype: object]"
            ]
          },
          "metadata": {
            "tags": []
          },
          "execution_count": 7
        }
      ]
    },
    {
      "cell_type": "markdown",
      "metadata": {
        "id": "1mN73t-rw0SC"
      },
      "source": [
        "# Sistema de análisis de sentimientos\r\n"
      ]
    },
    {
      "cell_type": "markdown",
      "metadata": {
        "id": "RxmDqugWoBqE"
      },
      "source": [
        "##Preparación análisis de sentimientos\r\n",
        "Aquí se muestran las ejecuciones necesarias para inicializar el sistema de analisis de sentimientos\r\n",
        "\r\n",
        "\r\n",
        "---\r\n",
        "\r\n",
        "\r\n",
        "***Manual de uso***\r\n",
        "\r\n",
        "Primero elegiremos el modelo de clasificación con el que entrenaremos nuestro sistema en este caso escogemos Sigmoid, esto se debe a la mayor precisión en cuanto a valorar nuestros comentarios sobre series. Junto con linear han sido los que mayor porcentaje de acierto han tenido.\r\n",
        "\r\n",
        "Utilizamos el procedimiento anterior de la bolsa de palabras para coger sólo las más relevantes y tras esto entrenamos nuestro sistema con el csv que tenemos en \"analisisData\"."
      ]
    },
    {
      "cell_type": "code",
      "metadata": {
        "id": "U-PdZ6vnzl8h",
        "colab": {
          "base_uri": "https://localhost:8080/"
        },
        "outputId": "ead29100-8746-4787-aea8-5475eedfddd3"
      },
      "source": [
        "from nltk.tokenize import word_tokenize \r\n",
        "from nltk.corpus import stopwords\r\n",
        "from nltk.stem import PorterStemmer\r\n",
        "from sklearn.feature_extraction.text import TfidfVectorizer\r\n",
        "from sklearn import svm\r\n",
        "svc = svm.SVC(kernel='sigmoid') #Modelo de clasificación\r\n",
        "\r\n",
        "import nltk\r\n",
        "nltk.download('punkt')\r\n",
        "nltk.download('stopwords')\r\n",
        "\r\n",
        "ps = PorterStemmer()\r\n",
        "\r\n",
        "preprocessedText = []\r\n",
        "\r\n",
        "for row in analisisData.itertuples():\r\n",
        "    \r\n",
        "    \r\n",
        "    text = word_tokenize(row[1]) ## indice de la columna que contiene el texto\r\n",
        "    ## Remove stop words\r\n",
        "    stops = set(stopwords.words(\"english\"))\r\n",
        "    text = [ps.stem(w) for w in text if not w in stops and w.isalnum()]\r\n",
        "    text = \" \".join(text)\r\n",
        "    \r\n",
        "    preprocessedText.append(text)\r\n",
        "\r\n",
        "preprocessedData = analisisData\r\n",
        "preprocessedData['processed_text'] = preprocessedText\r\n",
        "\r\n",
        "bagOfWordsModel = TfidfVectorizer()\r\n",
        "bagOfWordsModel.fit(preprocessedData['processed_text'])\r\n",
        "textsBoW= bagOfWordsModel.transform(preprocessedData['processed_text'])\r\n",
        "\r\n",
        "X_train = textsBoW #Documentos\r\n",
        "Y_train = analisisData['sentiment'] #Etiquetas de los documentos \r\n",
        "svc.fit(X_train, Y_train) #Entrenamiento"
      ],
      "execution_count": null,
      "outputs": [
        {
          "output_type": "stream",
          "text": [
            "[nltk_data] Downloading package punkt to /root/nltk_data...\n",
            "[nltk_data]   Unzipping tokenizers/punkt.zip.\n",
            "[nltk_data] Downloading package stopwords to /root/nltk_data...\n",
            "[nltk_data]   Unzipping corpora/stopwords.zip.\n"
          ],
          "name": "stdout"
        },
        {
          "output_type": "execute_result",
          "data": {
            "text/plain": [
              "SVC(C=1.0, break_ties=False, cache_size=200, class_weight=None, coef0=0.0,\n",
              "    decision_function_shape='ovr', degree=3, gamma='scale', kernel='sigmoid',\n",
              "    max_iter=-1, probability=False, random_state=None, shrinking=True,\n",
              "    tol=0.001, verbose=False)"
            ]
          },
          "metadata": {
            "tags": []
          },
          "execution_count": 3
        }
      ]
    },
    {
      "cell_type": "markdown",
      "metadata": {
        "id": "US2bbNFOppIq"
      },
      "source": [
        "## Analisis de sentimientos de comentario\r\n",
        "\r\n",
        "***Manual de uso: Analisis de sentimientos de comentario***\r\n",
        "\r\n",
        "Para el análisis de sentimientos se pedirá al usuario su DNI y la serie a valorar, tras esto le permitirá escribir un comentario y le dará la opción de poner una valoración en caso de no poner nada se realizará una valoración automática.\r\n",
        "\r\n",
        "\r\n",
        "1.   Introduce datos pedidos\r\n",
        "\r\n",
        "Se muestra el comentario y la valoración (positive/negative) y se guarda en la base de datos."
      ]
    },
    {
      "cell_type": "code",
      "metadata": {
        "id": "-Ap8_BCW0bCW",
        "colab": {
          "base_uri": "https://localhost:8080/"
        },
        "outputId": "7681bae7-4176-4a66-cfd5-6c1ddc291524"
      },
      "source": [
        "def analisisSentimientos():\r\n",
        "  usuarioComentario = input (\"Por favor, introduce el DNI del usuario que quiere comentar una serie: \")\r\n",
        "  serieComentario = input (\"Por favor, introduce el titulo de la serie que se va a comentar: \")\r\n",
        "  comentarioComentario = input (\"Por favor, introduce el comentario(english): \")\r\n",
        "  valoracionComentario = input (\"Por favor, introduce la valoración si lo desea(positive/negative): \")\r\n",
        "\r\n",
        "  if valoracionComentario == \"\":\r\n",
        "    ps = PorterStemmer()\r\n",
        "\r\n",
        "    preprocessedText = []\r\n",
        "        \r\n",
        "    text = word_tokenize(comentarioComentario) ## indice de la columna que contiene el texto\r\n",
        "    ## Remove stop words\r\n",
        "    stops = set(stopwords.words(\"english\"))\r\n",
        "    text = [ps.stem(w) for w in text if not w in stops and w.isalnum()]\r\n",
        "    text = \" \".join(text)\r\n",
        "        \r\n",
        "    preprocessedText.append(text)\r\n",
        "\r\n",
        "    textsBoWTest= bagOfWordsModel.transform(preprocessedText)\r\n",
        "    X_test = textsBoWTest #Documentos\r\n",
        "    valoracionComentario = svc.predict(X_test) #Se almacena en el array predictions las predicciones del clasificador\r\n",
        "    print(valoracionComentario)\r\n",
        "\r\n",
        "  else:\r\n",
        "    print(valoracionComentario)\r\n",
        "\r\n",
        "  series_comentariosData.loc[series_comentariosData.shape[0]] = [usuarioComentario,serieComentario,comentarioComentario,valoracionComentario]\r\n",
        "  series_comentariosData.to_csv('/content/drive/My Drive/ABP_4_Teledocencia/SPRINT 2/CSV/Series_comentarios.csv',index = False)\r\n",
        "  series_visData.loc[series_visData.shape[0]] = [usuarioComentario,serieComentario,valoracionComentario]\r\n",
        "  series_visData.to_csv('/content/drive/My Drive/ABP_4_Teledocencia/SPRINT 2/CSV/Series_visualizadas.csv',index = False)\r\n",
        "  print (\"----------------------------\")\r\n",
        "  print (\" ¡Comentario añadida con éxito!\")\r\n",
        "  print (\"----------------------------\")\r\n",
        "\r\n",
        "analisisSentimientos()"
      ],
      "execution_count": null,
      "outputs": [
        {
          "output_type": "stream",
          "text": [
            "Por favor, introduce el DNI del usuario que quiere comentar una serie: 68378360B\n",
            "Por favor, introduce el titulo de la serie que se va a comentar: Dark\n",
            "Por favor, introduce el comentario(english): good\n",
            "Por favor, introduce la valoración si lo desea(positive/negative): positive\n",
            "positive\n",
            "----------------------------\n",
            " ¡Comentario añadida con éxito!\n",
            "----------------------------\n"
          ],
          "name": "stdout"
        }
      ]
    },
    {
      "cell_type": "markdown",
      "metadata": {
        "id": "9yxS4hr3B_Ia"
      },
      "source": [
        "# Bibliografía\r\n",
        "\r\n",
        "-Apuntes de la asignatura\r\n",
        "\r\n",
        "-Kaggle\r\n",
        "\r\n",
        "-https://www.aprendemachinelearning.com/\r\n",
        "\r\n"
      ]
    }
  ]
}